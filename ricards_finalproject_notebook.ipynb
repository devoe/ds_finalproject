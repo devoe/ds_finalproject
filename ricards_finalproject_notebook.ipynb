{
 "cells": [
  {
   "cell_type": "code",
   "execution_count": 1,
   "metadata": {
    "collapsed": false
   },
   "outputs": [],
   "source": [
    "# Import statements\n",
    "\n",
    "import MySQLdb\n",
    "import pandas as pd\n",
    "import matplotlib.pyplot as plt\n",
    "import numpy as np\n",
    "\n",
    "from sklearn.cross_validation import train_test_split\n",
    "from sklearn.cross_validation import cross_val_score\n",
    "from sklearn.svm import SVC\n",
    "from sklearn.naive_bayes import MultinomialNB, GaussianNB\n",
    "from sklearn import metrics\n",
    "from sklearn.grid_search import GridSearchCV\n",
    "from sklearn.ensemble import RandomForestClassifier\n",
    "from sklearn.linear_model import LogisticRegression\n",
    "from sklearn.metrics import classification_report\n",
    "from sklearn.metrics import roc_curve, roc_auc_score \n",
    "\n",
    "from HTMLParser import HTMLParser\n",
    "import htmlentitydefs\n",
    "import itertools\n",
    "import re\n",
    "import datetime\n",
    "\n",
    "import sys\n",
    "\n",
    "%matplotlib inline"
   ]
  },
  {
   "cell_type": "markdown",
   "metadata": {},
   "source": [
    "# Importing Database"
   ]
  },
  {
   "cell_type": "code",
   "execution_count": 2,
   "metadata": {
    "collapsed": true
   },
   "outputs": [],
   "source": [
    "# Create database object\n",
    "\n",
    "db = MySQLdb.connect(\"localhost\", \"root\", \"\", \"junglescene\")"
   ]
  },
  {
   "cell_type": "code",
   "execution_count": 3,
   "metadata": {
    "collapsed": true
   },
   "outputs": [],
   "source": [
    "# Create database cursor object\n",
    "\n",
    "cursor = db.cursor()"
   ]
  },
  {
   "cell_type": "code",
   "execution_count": 4,
   "metadata": {
    "collapsed": false
   },
   "outputs": [
    {
     "data": {
      "text/plain": [
       "128L"
      ]
     },
     "execution_count": 4,
     "metadata": {},
     "output_type": "execute_result"
    }
   ],
   "source": [
    "cursor.execute(\"SHOW TABLES\")"
   ]
  },
  {
   "cell_type": "code",
   "execution_count": 5,
   "metadata": {
    "collapsed": false
   },
   "outputs": [
    {
     "data": {
      "text/plain": [
       "(('ImageGroups',),\n",
       " ('Images',),\n",
       " ('action',),\n",
       " ('active_banners',),\n",
       " ('address',),\n",
       " ('articles',),\n",
       " ('artists',),\n",
       " ('artistsgroup',),\n",
       " ('attending',),\n",
       " ('banned',),\n",
       " ('banners',),\n",
       " ('bushism',),\n",
       " ('calendar',),\n",
       " ('cardscards',),\n",
       " ('cardscategories',),\n",
       " ('cardspersonal',),\n",
       " ('cart',),\n",
       " ('chatters',),\n",
       " ('cms',),\n",
       " ('colors',),\n",
       " ('comments',),\n",
       " ('commentstopics1',),\n",
       " ('commentstopics2',),\n",
       " ('content',),\n",
       " ('country',),\n",
       " ('cutype',),\n",
       " ('date',),\n",
       " ('date_model',),\n",
       " ('day',),\n",
       " ('donations',),\n",
       " ('events',),\n",
       " ('forums',),\n",
       " ('forumstopics1',),\n",
       " ('forumstopics100',),\n",
       " ('forumstopics101',),\n",
       " ('forumstopics103',),\n",
       " ('forumstopics106',),\n",
       " ('forumstopics107',),\n",
       " ('forumstopics109',),\n",
       " ('forumstopics122',),\n",
       " ('forumstopics123',),\n",
       " ('forumstopics124',),\n",
       " ('forumstopics125',),\n",
       " ('forumstopics126',),\n",
       " ('forumstopics127',),\n",
       " ('forumstopics128',),\n",
       " ('forumstopics129',),\n",
       " ('forumstopics130',),\n",
       " ('forumstopics132',),\n",
       " ('forumstopics135',),\n",
       " ('forumstopics136',),\n",
       " ('forumstopics137',),\n",
       " ('forumstopics138',),\n",
       " ('forumstopics139',),\n",
       " ('forumstopics14',),\n",
       " ('forumstopics15',),\n",
       " ('forumstopics16',),\n",
       " ('forumstopics18',),\n",
       " ('forumstopics1_backup',),\n",
       " ('forumstopics2',),\n",
       " ('forumstopics22',),\n",
       " ('forumstopics24',),\n",
       " ('forumstopics25',),\n",
       " ('forumstopics30',),\n",
       " ('forumstopics36',),\n",
       " ('forumstopics40',),\n",
       " ('forumstopics44',),\n",
       " ('forumstopics48',),\n",
       " ('forumstopics57',),\n",
       " ('forumstopics60',),\n",
       " ('forumstopics63',),\n",
       " ('forumstopics68',),\n",
       " ('forumstopics74',),\n",
       " ('forumstopics79',),\n",
       " ('forumstopics84',),\n",
       " ('forumstopics85',),\n",
       " ('forumstopics86',),\n",
       " ('forumstopics9',),\n",
       " ('forumstopics90',),\n",
       " ('forumstopics95',),\n",
       " ('forurmstopics11_4_11_03',),\n",
       " ('giveaway',),\n",
       " ('groups',),\n",
       " ('homies',),\n",
       " ('hour',),\n",
       " ('ignore',),\n",
       " ('iminit',),\n",
       " ('internet',),\n",
       " ('item',),\n",
       " ('karma',),\n",
       " ('linkgroup',),\n",
       " ('links',),\n",
       " ('lurkers',),\n",
       " ('lurking',),\n",
       " ('minute',),\n",
       " ('mixes',),\n",
       " ('mixesgroup',),\n",
       " ('month',),\n",
       " ('online',),\n",
       " ('order_items',),\n",
       " ('orders',),\n",
       " ('partstat',),\n",
       " ('phone',),\n",
       " ('photos',),\n",
       " ('polls',),\n",
       " ('random_photos',),\n",
       " ('role',),\n",
       " ('rrule',),\n",
       " ('state',),\n",
       " ('subscribers',),\n",
       " ('sweep',),\n",
       " ('tmp_3af832975769cb88b187f96a363cd562',),\n",
       " ('tmp_9f1c4562843c286a2612d90737bd6953',),\n",
       " ('tmp_b4fb86e67b999879284a8d530b1d594c',),\n",
       " ('tmp_baa6af6d027f51f8c4e977dc20895f4b',),\n",
       " ('tmp_d83ca3eedd717c8b85f9068f889eb9c2',),\n",
       " ('tmp_e28583eb8b782dcdbedee4e151bfcf25',),\n",
       " ('tracks',),\n",
       " ('tracksgroup',),\n",
       " ('triggers',),\n",
       " ('tzid',),\n",
       " ('webcal_entry',),\n",
       " ('webcal_entry_repeats',),\n",
       " ('webcal_entry_user',),\n",
       " ('webcal_user',),\n",
       " ('webcal_user_layers',),\n",
       " ('webcal_user_pref',),\n",
       " ('year',))"
      ]
     },
     "execution_count": 5,
     "metadata": {},
     "output_type": "execute_result"
    }
   ],
   "source": [
    "cursor.fetchall()"
   ]
  },
  {
   "cell_type": "code",
   "execution_count": 6,
   "metadata": {
    "collapsed": false
   },
   "outputs": [],
   "source": [
    "# Create forumsdata DataFrame. forumsdata is all the collected posts from several of the Junglescene database forums.\n",
    "# Data comes from all forums with over 10000 posts. These forums are: Jungle Scene, Clubs & Parties, Photos, Producing,\n",
    "# Neptune For Poetry, Hip Hop, Party Reviews, General Discussion, Ragga, Dubstep, Sets & Tracklistings, and \n",
    "# Dancer's Corner. \n",
    "\n",
    "# Create DataFrame column names for the forumsdata DataFrame\n",
    "\n",
    "table_cols = ['tid', 'pid', 'rid', 'children', 'subject', 'body', 'username', \n",
    "              'user_addr', 'mailreply', 'rank', 'status', 'modified', 'created', \n",
    "              'lastip', 'userstatus', 'closed', 'forum_id']\n",
    "\n",
    "# Create list of sql forum table names\n",
    "forumtablenames = ['forumstopics1', 'forumstopics2', 'forumstopics122', 'forumstopics9', 'forumstopics40', \n",
    "                   'forumstopics30', 'forumstopics63', 'forumstopics137', 'forumstopics25', 'forumstopics130', \n",
    "                  'forumstopics125','forumstopics44']\n",
    "\n",
    "# Create list of forum id from sql. These will mark the posts in the forumsdata DataFrame so their origin is known.\n",
    "forumid = [1,2,122,9,40,30,63,137,25,130,125,44]\n",
    "\n",
    "# Create empty DataFrame\n",
    "forumsdata = pd.DataFrame(columns=table_cols)\n",
    "\n",
    "\n",
    "# Create forumsdata\n",
    "for tn,fid in zip(forumtablenames, forumid):\n",
    "    cursor.execute(\"select * from {}\".format(tn))\n",
    "    data = cursor.fetchall()\n",
    "\n",
    "    temp_forum = pd.DataFrame(list(data))\n",
    "    temp_forum['forum_id'] = fid\n",
    "    temp_forum.columns = table_cols\n",
    "    \n",
    "    forumsdata = forumsdata.append(temp_forum)\n",
    "    \n",
    "forumsdata.reset_index(inplace=True)\n"
   ]
  },
  {
   "cell_type": "markdown",
   "metadata": {},
   "source": [
    "# Cleaning, Analysis, Feature Engineering"
   ]
  },
  {
   "cell_type": "code",
   "execution_count": 7,
   "metadata": {
    "collapsed": false
   },
   "outputs": [
    {
     "data": {
      "text/html": [
       "<div>\n",
       "<table border=\"1\" class=\"dataframe\">\n",
       "  <thead>\n",
       "    <tr style=\"text-align: right;\">\n",
       "      <th></th>\n",
       "      <th>index</th>\n",
       "      <th>tid</th>\n",
       "      <th>pid</th>\n",
       "      <th>rid</th>\n",
       "      <th>children</th>\n",
       "      <th>subject</th>\n",
       "      <th>body</th>\n",
       "      <th>username</th>\n",
       "      <th>user_addr</th>\n",
       "      <th>mailreply</th>\n",
       "      <th>...</th>\n",
       "      <th>modifiedday</th>\n",
       "      <th>modifiedhour</th>\n",
       "      <th>modifiedminute</th>\n",
       "      <th>modifiedsecond</th>\n",
       "      <th>createdyear</th>\n",
       "      <th>createdmonth</th>\n",
       "      <th>createdday</th>\n",
       "      <th>createdhour</th>\n",
       "      <th>createdminute</th>\n",
       "      <th>createdsecond</th>\n",
       "    </tr>\n",
       "  </thead>\n",
       "  <tbody>\n",
       "    <tr>\n",
       "      <th>0</th>\n",
       "      <td>0</td>\n",
       "      <td>1.0</td>\n",
       "      <td>1.0</td>\n",
       "      <td>1.0</td>\n",
       "      <td>23.0</td>\n",
       "      <td>ok i cleared this forum out... so...</td>\n",
       "      <td>start it up again peeps.&lt;br /&gt;\\r\\n&lt;br /&gt;\\r\\n-dave</td>\n",
       "      <td>eecue</td>\n",
       "      <td>208.179.230.93</td>\n",
       "      <td>0.0</td>\n",
       "      <td>...</td>\n",
       "      <td>8</td>\n",
       "      <td>1</td>\n",
       "      <td>39</td>\n",
       "      <td>40</td>\n",
       "      <td>2002</td>\n",
       "      <td>7</td>\n",
       "      <td>8</td>\n",
       "      <td>12</td>\n",
       "      <td>2</td>\n",
       "      <td>56</td>\n",
       "    </tr>\n",
       "    <tr>\n",
       "      <th>1</th>\n",
       "      <td>1</td>\n",
       "      <td>2.0</td>\n",
       "      <td>1.0</td>\n",
       "      <td>1.0</td>\n",
       "      <td>0.0</td>\n",
       "      <td>Re: ok i cleared this forum out... so...</td>\n",
       "      <td>ouch!</td>\n",
       "      <td>mudda</td>\n",
       "      <td>208.46.145.162</td>\n",
       "      <td>0.0</td>\n",
       "      <td>...</td>\n",
       "      <td>8</td>\n",
       "      <td>12</td>\n",
       "      <td>4</td>\n",
       "      <td>18</td>\n",
       "      <td>2002</td>\n",
       "      <td>7</td>\n",
       "      <td>8</td>\n",
       "      <td>12</td>\n",
       "      <td>4</td>\n",
       "      <td>18</td>\n",
       "    </tr>\n",
       "    <tr>\n",
       "      <th>2</th>\n",
       "      <td>2</td>\n",
       "      <td>3.0</td>\n",
       "      <td>3.0</td>\n",
       "      <td>3.0</td>\n",
       "      <td>4.0</td>\n",
       "      <td>Boo fucking Hoo...</td>\n",
       "      <td>No more Monday night coffee shop drum 'n' bass...</td>\n",
       "      <td>kryptic</td>\n",
       "      <td>68.96.64.212</td>\n",
       "      <td>0.0</td>\n",
       "      <td>...</td>\n",
       "      <td>8</td>\n",
       "      <td>18</td>\n",
       "      <td>54</td>\n",
       "      <td>1</td>\n",
       "      <td>2002</td>\n",
       "      <td>7</td>\n",
       "      <td>8</td>\n",
       "      <td>12</td>\n",
       "      <td>13</td>\n",
       "      <td>24</td>\n",
       "    </tr>\n",
       "    <tr>\n",
       "      <th>3</th>\n",
       "      <td>3</td>\n",
       "      <td>4.0</td>\n",
       "      <td>3.0</td>\n",
       "      <td>3.0</td>\n",
       "      <td>1.0</td>\n",
       "      <td>Re: Boo fucking Hoo...</td>\n",
       "      <td>&lt;img src=http://junglescene.com/img/sad.gif b...</td>\n",
       "      <td>raggamffn</td>\n",
       "      <td>66.88.157.226</td>\n",
       "      <td>0.0</td>\n",
       "      <td>...</td>\n",
       "      <td>8</td>\n",
       "      <td>12</td>\n",
       "      <td>29</td>\n",
       "      <td>39</td>\n",
       "      <td>2002</td>\n",
       "      <td>7</td>\n",
       "      <td>8</td>\n",
       "      <td>12</td>\n",
       "      <td>13</td>\n",
       "      <td>52</td>\n",
       "    </tr>\n",
       "    <tr>\n",
       "      <th>4</th>\n",
       "      <td>4</td>\n",
       "      <td>5.0</td>\n",
       "      <td>1.0</td>\n",
       "      <td>1.0</td>\n",
       "      <td>1.0</td>\n",
       "      <td>Re: ok i cleared this forum out... so...</td>\n",
       "      <td>!!!!!!arghhhhhhhh</td>\n",
       "      <td>sara</td>\n",
       "      <td>209.204.144.242</td>\n",
       "      <td>0.0</td>\n",
       "      <td>...</td>\n",
       "      <td>8</td>\n",
       "      <td>12</td>\n",
       "      <td>16</td>\n",
       "      <td>17</td>\n",
       "      <td>2002</td>\n",
       "      <td>7</td>\n",
       "      <td>8</td>\n",
       "      <td>12</td>\n",
       "      <td>14</td>\n",
       "      <td>10</td>\n",
       "    </tr>\n",
       "  </tbody>\n",
       "</table>\n",
       "<p>5 rows × 30 columns</p>\n",
       "</div>"
      ],
      "text/plain": [
       "   index  tid  pid  rid  children                                   subject  \\\n",
       "0      0  1.0  1.0  1.0      23.0      ok i cleared this forum out... so...   \n",
       "1      1  2.0  1.0  1.0       0.0  Re: ok i cleared this forum out... so...   \n",
       "2      2  3.0  3.0  3.0       4.0                        Boo fucking Hoo...   \n",
       "3      3  4.0  3.0  3.0       1.0                    Re: Boo fucking Hoo...   \n",
       "4      4  5.0  1.0  1.0       1.0  Re: ok i cleared this forum out... so...   \n",
       "\n",
       "                                                body   username  \\\n",
       "0  start it up again peeps.<br />\\r\\n<br />\\r\\n-dave      eecue   \n",
       "1                                              ouch!      mudda   \n",
       "2  No more Monday night coffee shop drum 'n' bass...    kryptic   \n",
       "3   <img src=http://junglescene.com/img/sad.gif b...  raggamffn   \n",
       "4                                  !!!!!!arghhhhhhhh       sara   \n",
       "\n",
       "         user_addr  mailreply      ...        modifiedday  modifiedhour  \\\n",
       "0   208.179.230.93        0.0      ...                  8             1   \n",
       "1   208.46.145.162        0.0      ...                  8            12   \n",
       "2     68.96.64.212        0.0      ...                  8            18   \n",
       "3    66.88.157.226        0.0      ...                  8            12   \n",
       "4  209.204.144.242        0.0      ...                  8            12   \n",
       "\n",
       "  modifiedminute modifiedsecond createdyear createdmonth  createdday  \\\n",
       "0             39             40        2002            7           8   \n",
       "1              4             18        2002            7           8   \n",
       "2             54              1        2002            7           8   \n",
       "3             29             39        2002            7           8   \n",
       "4             16             17        2002            7           8   \n",
       "\n",
       "   createdhour  createdminute  createdsecond  \n",
       "0           12              2             56  \n",
       "1           12              4             18  \n",
       "2           12             13             24  \n",
       "3           12             13             52  \n",
       "4           12             14             10  \n",
       "\n",
       "[5 rows x 30 columns]"
      ]
     },
     "execution_count": 7,
     "metadata": {},
     "output_type": "execute_result"
    }
   ],
   "source": [
    "# Separating time information\n",
    "\n",
    "forumsdata['modifiedyear'] = forumsdata['modified'].dt.year\n",
    "forumsdata['modifiedmonth'] = forumsdata['modified'].dt.month\n",
    "forumsdata['modifiedday'] = forumsdata['modified'].dt.day\n",
    "forumsdata['modifiedhour'] = forumsdata['modified'].dt.hour\n",
    "forumsdata['modifiedminute'] = forumsdata['modified'].dt.minute\n",
    "forumsdata['modifiedsecond'] = forumsdata['modified'].dt.second\n",
    "\n",
    "forumsdata['createdyear'] = forumsdata['created'].dt.year\n",
    "forumsdata['createdmonth'] = forumsdata['created'].dt.month\n",
    "forumsdata['createdday'] = forumsdata['created'].dt.day\n",
    "forumsdata['createdhour'] = forumsdata['created'].dt.hour\n",
    "forumsdata['createdminute'] = forumsdata['created'].dt.minute\n",
    "forumsdata['createdminute'] = forumsdata['created'].dt.minute\n",
    "forumsdata['createdsecond'] = forumsdata['created'].dt.second\n",
    "\n",
    "forumsdata.head()"
   ]
  },
  {
   "cell_type": "code",
   "execution_count": 112,
   "metadata": {
    "collapsed": false
   },
   "outputs": [
    {
     "data": {
      "text/plain": [
       "(663566, 24)"
      ]
     },
     "execution_count": 112,
     "metadata": {},
     "output_type": "execute_result"
    }
   ],
   "source": [
    "forumsdata.shape"
   ]
  },
  {
   "cell_type": "code",
   "execution_count": 8,
   "metadata": {
    "collapsed": false
   },
   "outputs": [
    {
     "data": {
      "text/html": [
       "<div>\n",
       "<table border=\"1\" class=\"dataframe\">\n",
       "  <thead>\n",
       "    <tr style=\"text-align: right;\">\n",
       "      <th></th>\n",
       "      <th>index</th>\n",
       "      <th>tid</th>\n",
       "      <th>pid</th>\n",
       "      <th>rid</th>\n",
       "      <th>children</th>\n",
       "      <th>subject</th>\n",
       "      <th>body</th>\n",
       "      <th>username</th>\n",
       "      <th>user_addr</th>\n",
       "      <th>mailreply</th>\n",
       "      <th>...</th>\n",
       "      <th>modifiedday</th>\n",
       "      <th>modifiedhour</th>\n",
       "      <th>modifiedminute</th>\n",
       "      <th>modifiedsecond</th>\n",
       "      <th>createdyear</th>\n",
       "      <th>createdmonth</th>\n",
       "      <th>createdday</th>\n",
       "      <th>createdhour</th>\n",
       "      <th>createdminute</th>\n",
       "      <th>createdsecond</th>\n",
       "    </tr>\n",
       "  </thead>\n",
       "  <tbody>\n",
       "    <tr>\n",
       "      <th>0</th>\n",
       "      <td>0</td>\n",
       "      <td>1.0</td>\n",
       "      <td>1.0</td>\n",
       "      <td>1.0</td>\n",
       "      <td>23.0</td>\n",
       "      <td>ok i cleared this forum out... so...</td>\n",
       "      <td>start it up again peeps.&lt;br /&gt;\\r\\n&lt;br /&gt;\\r\\n-dave</td>\n",
       "      <td>eecue</td>\n",
       "      <td>208.179.230.93</td>\n",
       "      <td>0.0</td>\n",
       "      <td>...</td>\n",
       "      <td>8</td>\n",
       "      <td>1</td>\n",
       "      <td>39</td>\n",
       "      <td>40</td>\n",
       "      <td>2002</td>\n",
       "      <td>7</td>\n",
       "      <td>8</td>\n",
       "      <td>12</td>\n",
       "      <td>2</td>\n",
       "      <td>56</td>\n",
       "    </tr>\n",
       "    <tr>\n",
       "      <th>1</th>\n",
       "      <td>1</td>\n",
       "      <td>2.0</td>\n",
       "      <td>1.0</td>\n",
       "      <td>1.0</td>\n",
       "      <td>0.0</td>\n",
       "      <td>ok i cleared this forum out... so...</td>\n",
       "      <td>ouch!</td>\n",
       "      <td>mudda</td>\n",
       "      <td>208.46.145.162</td>\n",
       "      <td>0.0</td>\n",
       "      <td>...</td>\n",
       "      <td>8</td>\n",
       "      <td>12</td>\n",
       "      <td>4</td>\n",
       "      <td>18</td>\n",
       "      <td>2002</td>\n",
       "      <td>7</td>\n",
       "      <td>8</td>\n",
       "      <td>12</td>\n",
       "      <td>4</td>\n",
       "      <td>18</td>\n",
       "    </tr>\n",
       "    <tr>\n",
       "      <th>2</th>\n",
       "      <td>2</td>\n",
       "      <td>3.0</td>\n",
       "      <td>3.0</td>\n",
       "      <td>3.0</td>\n",
       "      <td>4.0</td>\n",
       "      <td>Boo fucking Hoo...</td>\n",
       "      <td>No more Monday night coffee shop drum 'n' bass...</td>\n",
       "      <td>kryptic</td>\n",
       "      <td>68.96.64.212</td>\n",
       "      <td>0.0</td>\n",
       "      <td>...</td>\n",
       "      <td>8</td>\n",
       "      <td>18</td>\n",
       "      <td>54</td>\n",
       "      <td>1</td>\n",
       "      <td>2002</td>\n",
       "      <td>7</td>\n",
       "      <td>8</td>\n",
       "      <td>12</td>\n",
       "      <td>13</td>\n",
       "      <td>24</td>\n",
       "    </tr>\n",
       "    <tr>\n",
       "      <th>3</th>\n",
       "      <td>3</td>\n",
       "      <td>4.0</td>\n",
       "      <td>3.0</td>\n",
       "      <td>3.0</td>\n",
       "      <td>1.0</td>\n",
       "      <td>Boo fucking Hoo...</td>\n",
       "      <td>&lt;img src=http://junglescene.com/img/sad.gif b...</td>\n",
       "      <td>raggamffn</td>\n",
       "      <td>66.88.157.226</td>\n",
       "      <td>0.0</td>\n",
       "      <td>...</td>\n",
       "      <td>8</td>\n",
       "      <td>12</td>\n",
       "      <td>29</td>\n",
       "      <td>39</td>\n",
       "      <td>2002</td>\n",
       "      <td>7</td>\n",
       "      <td>8</td>\n",
       "      <td>12</td>\n",
       "      <td>13</td>\n",
       "      <td>52</td>\n",
       "    </tr>\n",
       "    <tr>\n",
       "      <th>4</th>\n",
       "      <td>4</td>\n",
       "      <td>5.0</td>\n",
       "      <td>1.0</td>\n",
       "      <td>1.0</td>\n",
       "      <td>1.0</td>\n",
       "      <td>ok i cleared this forum out... so...</td>\n",
       "      <td>!!!!!!arghhhhhhhh</td>\n",
       "      <td>sara</td>\n",
       "      <td>209.204.144.242</td>\n",
       "      <td>0.0</td>\n",
       "      <td>...</td>\n",
       "      <td>8</td>\n",
       "      <td>12</td>\n",
       "      <td>16</td>\n",
       "      <td>17</td>\n",
       "      <td>2002</td>\n",
       "      <td>7</td>\n",
       "      <td>8</td>\n",
       "      <td>12</td>\n",
       "      <td>14</td>\n",
       "      <td>10</td>\n",
       "    </tr>\n",
       "  </tbody>\n",
       "</table>\n",
       "<p>5 rows × 30 columns</p>\n",
       "</div>"
      ],
      "text/plain": [
       "   index  tid  pid  rid  children                               subject  \\\n",
       "0      0  1.0  1.0  1.0      23.0  ok i cleared this forum out... so...   \n",
       "1      1  2.0  1.0  1.0       0.0  ok i cleared this forum out... so...   \n",
       "2      2  3.0  3.0  3.0       4.0                    Boo fucking Hoo...   \n",
       "3      3  4.0  3.0  3.0       1.0                    Boo fucking Hoo...   \n",
       "4      4  5.0  1.0  1.0       1.0  ok i cleared this forum out... so...   \n",
       "\n",
       "                                                body   username  \\\n",
       "0  start it up again peeps.<br />\\r\\n<br />\\r\\n-dave      eecue   \n",
       "1                                              ouch!      mudda   \n",
       "2  No more Monday night coffee shop drum 'n' bass...    kryptic   \n",
       "3   <img src=http://junglescene.com/img/sad.gif b...  raggamffn   \n",
       "4                                  !!!!!!arghhhhhhhh       sara   \n",
       "\n",
       "         user_addr  mailreply      ...        modifiedday  modifiedhour  \\\n",
       "0   208.179.230.93        0.0      ...                  8             1   \n",
       "1   208.46.145.162        0.0      ...                  8            12   \n",
       "2     68.96.64.212        0.0      ...                  8            18   \n",
       "3    66.88.157.226        0.0      ...                  8            12   \n",
       "4  209.204.144.242        0.0      ...                  8            12   \n",
       "\n",
       "  modifiedminute modifiedsecond createdyear createdmonth  createdday  \\\n",
       "0             39             40        2002            7           8   \n",
       "1              4             18        2002            7           8   \n",
       "2             54              1        2002            7           8   \n",
       "3             29             39        2002            7           8   \n",
       "4             16             17        2002            7           8   \n",
       "\n",
       "   createdhour  createdminute  createdsecond  \n",
       "0           12              2             56  \n",
       "1           12              4             18  \n",
       "2           12             13             24  \n",
       "3           12             13             52  \n",
       "4           12             14             10  \n",
       "\n",
       "[5 rows x 30 columns]"
      ]
     },
     "execution_count": 8,
     "metadata": {},
     "output_type": "execute_result"
    }
   ],
   "source": [
    "forumsdata['subject'] = forumsdata['subject'].str.replace('Re: ', '')\n",
    "forumsdata.head()"
   ]
  },
  {
   "cell_type": "code",
   "execution_count": 9,
   "metadata": {
    "collapsed": false
   },
   "outputs": [
    {
     "data": {
      "text/plain": [
       "215"
      ]
     },
     "execution_count": 9,
     "metadata": {},
     "output_type": "execute_result"
    }
   ],
   "source": [
    "# Number of threads closed\n",
    "\n",
    "len(forumsdata[forumsdata['closed']==1]['subject'].unique())"
   ]
  },
  {
   "cell_type": "code",
   "execution_count": 10,
   "metadata": {
    "collapsed": false
   },
   "outputs": [
    {
     "data": {
      "text/plain": [
       "89059"
      ]
     },
     "execution_count": 10,
     "metadata": {},
     "output_type": "execute_result"
    }
   ],
   "source": [
    "# Number of threads open\n",
    "\n",
    "len(forumsdata[forumsdata['closed']==0]['subject'].unique())"
   ]
  },
  {
   "cell_type": "code",
   "execution_count": 11,
   "metadata": {
    "collapsed": false
   },
   "outputs": [
    {
     "data": {
      "text/plain": [
       "89256"
      ]
     },
     "execution_count": 11,
     "metadata": {},
     "output_type": "execute_result"
    }
   ],
   "source": [
    "# There is a discrepency between the closed and not closed topics. I think there are some threads with the same subject\n",
    "# that are marked as closed, and as open. I.E. some posts in the same subject were marked closed and others as open.\n",
    "\n",
    "len(forumsdata['subject'].unique())"
   ]
  },
  {
   "cell_type": "code",
   "execution_count": 12,
   "metadata": {
    "collapsed": false
   },
   "outputs": [
    {
     "data": {
      "text/plain": [
       "89274"
      ]
     },
     "execution_count": 12,
     "metadata": {},
     "output_type": "execute_result"
    }
   ],
   "source": [
    "89059+215"
   ]
  },
  {
   "cell_type": "code",
   "execution_count": 13,
   "metadata": {
    "collapsed": false
   },
   "outputs": [
    {
     "data": {
      "text/plain": [
       "18"
      ]
     },
     "execution_count": 13,
     "metadata": {},
     "output_type": "execute_result"
    }
   ],
   "source": [
    "# It looks like there are 18 of these threads\n",
    "\n",
    "89274-89256"
   ]
  },
  {
   "cell_type": "code",
   "execution_count": 14,
   "metadata": {
    "collapsed": false
   },
   "outputs": [],
   "source": [
    "# Set of closed subjects\n",
    "closed_subjects = set(forumsdata[forumsdata['closed']==1]['subject'].unique())\n",
    "\n",
    "# Set of open subjects\n",
    "open_subjects = set(forumsdata[forumsdata['closed']==0]['subject'].unique())\n",
    "\n",
    "# List of subjects where thread is marked as both closed and open\n",
    "duplicate_closedopen = list(set.intersection(closed_subjects, open_subjects))"
   ]
  },
  {
   "cell_type": "code",
   "execution_count": 15,
   "metadata": {
    "collapsed": false
   },
   "outputs": [
    {
     "data": {
      "text/plain": [
       "['Bullet Proof Week 2',\n",
       " 'WTF?',\n",
       " 'This Battle',\n",
       " \"ATTENTION MC'S\",\n",
       " 'please read',\n",
       " \"RESPECT 1.20.05::RID'EM RECORD RELEASE::\",\n",
       " '.',\n",
       " 'DRAMA',\n",
       " '\\xe2\\x80\\x9cFreedom Is Not Free\\xe2\\x80\\x9d propaganda',\n",
       " 'more fun facts',\n",
       " \"this site is not paying for it's self...\",\n",
       " 'Grapevinez Invites Temple Of Boom',\n",
       " 'Bullet Proof',\n",
       " 'FUNKTION ONE YEAR FEAT. SIMON BASSLINE SMITH // 01.24.07',\n",
       " 'Dillinja - Feel My Pain',\n",
       " 'Elevate - 08.06.05 - Indoor/Outdoor DnB Loft Party',\n",
       " 'Evol_Intent_-_Exclusive_Dnbradio_Broadcast_18-08-2004',\n",
       " 'why was my John Dada thread closed??']"
      ]
     },
     "execution_count": 15,
     "metadata": {},
     "output_type": "execute_result"
    }
   ],
   "source": [
    "# Subject titles for threads with both closed and open designations\n",
    "\n",
    "duplicate_closedopen"
   ]
  },
  {
   "cell_type": "code",
   "execution_count": 16,
   "metadata": {
    "collapsed": false
   },
   "outputs": [
    {
     "name": "stdout",
     "output_type": "stream",
     "text": [
      "Number of posts Before:  20130840\n",
      "Number of posts after:  20112990\n",
      "Number of posts deleted:  17850\n"
     ]
    }
   ],
   "source": [
    "# Deleting threads marked both closed and open\n",
    "\n",
    "sizeb4 = forumsdata.size\n",
    "print 'Number of posts Before: ', sizeb4\n",
    "\n",
    "for x in duplicate_closedopen:\n",
    "    dup_idx = forumsdata[forumsdata['subject']==x].index\n",
    "    forumsdata = forumsdata.drop(dup_idx)\n",
    "    \n",
    "sizeafter = forumsdata.size\n",
    "print 'Number of posts after: ', sizeafter\n",
    "print 'Number of posts deleted: ', sizeb4-sizeafter"
   ]
  },
  {
   "cell_type": "code",
   "execution_count": 17,
   "metadata": {
    "collapsed": false
   },
   "outputs": [
    {
     "data": {
      "text/plain": [
       "[]"
      ]
     },
     "execution_count": 17,
     "metadata": {},
     "output_type": "execute_result"
    }
   ],
   "source": [
    "# Verify threads marked both closed/open are gone\n",
    "\n",
    "# Set of closed subjects\n",
    "closed_subjects = set(forumsdata[forumsdata['closed']==1]['subject'].unique())\n",
    "\n",
    "# Set of open subjects\n",
    "open_subjects = set(forumsdata[forumsdata['closed']==0]['subject'].unique())\n",
    "\n",
    "# List of subjects where thread is marked as both closed and open\n",
    "duplicate_closedopen = list(set.intersection(closed_subjects, open_subjects))\n",
    "duplicate_closedopen"
   ]
  },
  {
   "cell_type": "code",
   "execution_count": 18,
   "metadata": {
    "collapsed": false
   },
   "outputs": [
    {
     "data": {
      "text/html": [
       "<div>\n",
       "<table border=\"1\" class=\"dataframe\">\n",
       "  <thead>\n",
       "    <tr style=\"text-align: right;\">\n",
       "      <th></th>\n",
       "      <th>index</th>\n",
       "      <th>tid</th>\n",
       "      <th>pid</th>\n",
       "      <th>rid</th>\n",
       "      <th>children</th>\n",
       "      <th>mailreply</th>\n",
       "      <th>rank</th>\n",
       "      <th>status</th>\n",
       "      <th>closed</th>\n",
       "      <th>forum_id</th>\n",
       "      <th>...</th>\n",
       "      <th>modifiedday</th>\n",
       "      <th>modifiedhour</th>\n",
       "      <th>modifiedminute</th>\n",
       "      <th>modifiedsecond</th>\n",
       "      <th>createdyear</th>\n",
       "      <th>createdmonth</th>\n",
       "      <th>createdday</th>\n",
       "      <th>createdhour</th>\n",
       "      <th>createdminute</th>\n",
       "      <th>createdsecond</th>\n",
       "    </tr>\n",
       "  </thead>\n",
       "  <tbody>\n",
       "    <tr>\n",
       "      <th>count</th>\n",
       "      <td>670433.000000</td>\n",
       "      <td>670433.000000</td>\n",
       "      <td>670433.000000</td>\n",
       "      <td>670433.000000</td>\n",
       "      <td>670433.000000</td>\n",
       "      <td>670433.000000</td>\n",
       "      <td>670433.000000</td>\n",
       "      <td>670433.000000</td>\n",
       "      <td>670433.000000</td>\n",
       "      <td>670433.000000</td>\n",
       "      <td>...</td>\n",
       "      <td>670433.000000</td>\n",
       "      <td>670433.000000</td>\n",
       "      <td>670433.000000</td>\n",
       "      <td>670433.000000</td>\n",
       "      <td>670433.000000</td>\n",
       "      <td>670433.000000</td>\n",
       "      <td>670433.000000</td>\n",
       "      <td>670433.000000</td>\n",
       "      <td>670433.000000</td>\n",
       "      <td>670433.000000</td>\n",
       "    </tr>\n",
       "    <tr>\n",
       "      <th>mean</th>\n",
       "      <td>77382.018506</td>\n",
       "      <td>78471.677774</td>\n",
       "      <td>78348.168561</td>\n",
       "      <td>77953.079757</td>\n",
       "      <td>1.597356</td>\n",
       "      <td>0.003750</td>\n",
       "      <td>2.223074</td>\n",
       "      <td>0.940753</td>\n",
       "      <td>0.004873</td>\n",
       "      <td>22.372174</td>\n",
       "      <td>...</td>\n",
       "      <td>15.603327</td>\n",
       "      <td>13.763568</td>\n",
       "      <td>29.566975</td>\n",
       "      <td>29.513656</td>\n",
       "      <td>2005.165487</td>\n",
       "      <td>6.620805</td>\n",
       "      <td>15.565985</td>\n",
       "      <td>13.675726</td>\n",
       "      <td>29.544608</td>\n",
       "      <td>29.509335</td>\n",
       "    </tr>\n",
       "    <tr>\n",
       "      <th>std</th>\n",
       "      <td>69721.572297</td>\n",
       "      <td>70900.323529</td>\n",
       "      <td>70842.949618</td>\n",
       "      <td>70681.138270</td>\n",
       "      <td>5.593619</td>\n",
       "      <td>0.061121</td>\n",
       "      <td>3.880633</td>\n",
       "      <td>0.247745</td>\n",
       "      <td>0.069636</td>\n",
       "      <td>39.360621</td>\n",
       "      <td>...</td>\n",
       "      <td>8.730886</td>\n",
       "      <td>5.172671</td>\n",
       "      <td>17.343581</td>\n",
       "      <td>17.312043</td>\n",
       "      <td>2.653514</td>\n",
       "      <td>3.451718</td>\n",
       "      <td>8.730512</td>\n",
       "      <td>5.157214</td>\n",
       "      <td>17.311004</td>\n",
       "      <td>17.328463</td>\n",
       "    </tr>\n",
       "    <tr>\n",
       "      <th>min</th>\n",
       "      <td>0.000000</td>\n",
       "      <td>1.000000</td>\n",
       "      <td>0.000000</td>\n",
       "      <td>0.000000</td>\n",
       "      <td>0.000000</td>\n",
       "      <td>0.000000</td>\n",
       "      <td>-12.000000</td>\n",
       "      <td>0.000000</td>\n",
       "      <td>0.000000</td>\n",
       "      <td>1.000000</td>\n",
       "      <td>...</td>\n",
       "      <td>1.000000</td>\n",
       "      <td>0.000000</td>\n",
       "      <td>0.000000</td>\n",
       "      <td>0.000000</td>\n",
       "      <td>2001.000000</td>\n",
       "      <td>1.000000</td>\n",
       "      <td>1.000000</td>\n",
       "      <td>0.000000</td>\n",
       "      <td>0.000000</td>\n",
       "      <td>0.000000</td>\n",
       "    </tr>\n",
       "    <tr>\n",
       "      <th>25%</th>\n",
       "      <td>14703.000000</td>\n",
       "      <td>14868.000000</td>\n",
       "      <td>14809.000000</td>\n",
       "      <td>14645.000000</td>\n",
       "      <td>0.000000</td>\n",
       "      <td>0.000000</td>\n",
       "      <td>2.000000</td>\n",
       "      <td>1.000000</td>\n",
       "      <td>0.000000</td>\n",
       "      <td>1.000000</td>\n",
       "      <td>...</td>\n",
       "      <td>8.000000</td>\n",
       "      <td>11.000000</td>\n",
       "      <td>15.000000</td>\n",
       "      <td>15.000000</td>\n",
       "      <td>2003.000000</td>\n",
       "      <td>4.000000</td>\n",
       "      <td>8.000000</td>\n",
       "      <td>11.000000</td>\n",
       "      <td>15.000000</td>\n",
       "      <td>14.000000</td>\n",
       "    </tr>\n",
       "    <tr>\n",
       "      <th>50%</th>\n",
       "      <td>52797.000000</td>\n",
       "      <td>53300.000000</td>\n",
       "      <td>53132.000000</td>\n",
       "      <td>52596.000000</td>\n",
       "      <td>1.000000</td>\n",
       "      <td>0.000000</td>\n",
       "      <td>3.000000</td>\n",
       "      <td>1.000000</td>\n",
       "      <td>0.000000</td>\n",
       "      <td>2.000000</td>\n",
       "      <td>...</td>\n",
       "      <td>15.000000</td>\n",
       "      <td>14.000000</td>\n",
       "      <td>30.000000</td>\n",
       "      <td>30.000000</td>\n",
       "      <td>2005.000000</td>\n",
       "      <td>7.000000</td>\n",
       "      <td>15.000000</td>\n",
       "      <td>14.000000</td>\n",
       "      <td>30.000000</td>\n",
       "      <td>30.000000</td>\n",
       "    </tr>\n",
       "    <tr>\n",
       "      <th>75%</th>\n",
       "      <td>136723.000000</td>\n",
       "      <td>138655.000000</td>\n",
       "      <td>138468.000000</td>\n",
       "      <td>137619.000000</td>\n",
       "      <td>1.000000</td>\n",
       "      <td>0.000000</td>\n",
       "      <td>3.000000</td>\n",
       "      <td>1.000000</td>\n",
       "      <td>0.000000</td>\n",
       "      <td>30.000000</td>\n",
       "      <td>...</td>\n",
       "      <td>23.000000</td>\n",
       "      <td>17.000000</td>\n",
       "      <td>45.000000</td>\n",
       "      <td>44.000000</td>\n",
       "      <td>2007.000000</td>\n",
       "      <td>10.000000</td>\n",
       "      <td>23.000000</td>\n",
       "      <td>17.000000</td>\n",
       "      <td>45.000000</td>\n",
       "      <td>44.000000</td>\n",
       "    </tr>\n",
       "    <tr>\n",
       "      <th>max</th>\n",
       "      <td>232382.000000</td>\n",
       "      <td>236985.000000</td>\n",
       "      <td>236985.000000</td>\n",
       "      <td>236985.000000</td>\n",
       "      <td>1215.000000</td>\n",
       "      <td>1.000000</td>\n",
       "      <td>3073.000000</td>\n",
       "      <td>62.000000</td>\n",
       "      <td>1.000000</td>\n",
       "      <td>137.000000</td>\n",
       "      <td>...</td>\n",
       "      <td>31.000000</td>\n",
       "      <td>23.000000</td>\n",
       "      <td>59.000000</td>\n",
       "      <td>59.000000</td>\n",
       "      <td>2016.000000</td>\n",
       "      <td>12.000000</td>\n",
       "      <td>31.000000</td>\n",
       "      <td>23.000000</td>\n",
       "      <td>59.000000</td>\n",
       "      <td>59.000000</td>\n",
       "    </tr>\n",
       "  </tbody>\n",
       "</table>\n",
       "<p>8 rows × 22 columns</p>\n",
       "</div>"
      ],
      "text/plain": [
       "               index            tid            pid            rid  \\\n",
       "count  670433.000000  670433.000000  670433.000000  670433.000000   \n",
       "mean    77382.018506   78471.677774   78348.168561   77953.079757   \n",
       "std     69721.572297   70900.323529   70842.949618   70681.138270   \n",
       "min         0.000000       1.000000       0.000000       0.000000   \n",
       "25%     14703.000000   14868.000000   14809.000000   14645.000000   \n",
       "50%     52797.000000   53300.000000   53132.000000   52596.000000   \n",
       "75%    136723.000000  138655.000000  138468.000000  137619.000000   \n",
       "max    232382.000000  236985.000000  236985.000000  236985.000000   \n",
       "\n",
       "            children      mailreply           rank         status  \\\n",
       "count  670433.000000  670433.000000  670433.000000  670433.000000   \n",
       "mean        1.597356       0.003750       2.223074       0.940753   \n",
       "std         5.593619       0.061121       3.880633       0.247745   \n",
       "min         0.000000       0.000000     -12.000000       0.000000   \n",
       "25%         0.000000       0.000000       2.000000       1.000000   \n",
       "50%         1.000000       0.000000       3.000000       1.000000   \n",
       "75%         1.000000       0.000000       3.000000       1.000000   \n",
       "max      1215.000000       1.000000    3073.000000      62.000000   \n",
       "\n",
       "              closed       forum_id      ...          modifiedday  \\\n",
       "count  670433.000000  670433.000000      ...        670433.000000   \n",
       "mean        0.004873      22.372174      ...            15.603327   \n",
       "std         0.069636      39.360621      ...             8.730886   \n",
       "min         0.000000       1.000000      ...             1.000000   \n",
       "25%         0.000000       1.000000      ...             8.000000   \n",
       "50%         0.000000       2.000000      ...            15.000000   \n",
       "75%         0.000000      30.000000      ...            23.000000   \n",
       "max         1.000000     137.000000      ...            31.000000   \n",
       "\n",
       "        modifiedhour  modifiedminute  modifiedsecond    createdyear  \\\n",
       "count  670433.000000   670433.000000   670433.000000  670433.000000   \n",
       "mean       13.763568       29.566975       29.513656    2005.165487   \n",
       "std         5.172671       17.343581       17.312043       2.653514   \n",
       "min         0.000000        0.000000        0.000000    2001.000000   \n",
       "25%        11.000000       15.000000       15.000000    2003.000000   \n",
       "50%        14.000000       30.000000       30.000000    2005.000000   \n",
       "75%        17.000000       45.000000       44.000000    2007.000000   \n",
       "max        23.000000       59.000000       59.000000    2016.000000   \n",
       "\n",
       "        createdmonth     createdday    createdhour  createdminute  \\\n",
       "count  670433.000000  670433.000000  670433.000000  670433.000000   \n",
       "mean        6.620805      15.565985      13.675726      29.544608   \n",
       "std         3.451718       8.730512       5.157214      17.311004   \n",
       "min         1.000000       1.000000       0.000000       0.000000   \n",
       "25%         4.000000       8.000000      11.000000      15.000000   \n",
       "50%         7.000000      15.000000      14.000000      30.000000   \n",
       "75%        10.000000      23.000000      17.000000      45.000000   \n",
       "max        12.000000      31.000000      23.000000      59.000000   \n",
       "\n",
       "       createdsecond  \n",
       "count  670433.000000  \n",
       "mean       29.509335  \n",
       "std        17.328463  \n",
       "min         0.000000  \n",
       "25%        14.000000  \n",
       "50%        30.000000  \n",
       "75%        44.000000  \n",
       "max        59.000000  \n",
       "\n",
       "[8 rows x 22 columns]"
      ]
     },
     "execution_count": 18,
     "metadata": {},
     "output_type": "execute_result"
    }
   ],
   "source": [
    "forumsdata.describe()"
   ]
  },
  {
   "cell_type": "code",
   "execution_count": 19,
   "metadata": {
    "collapsed": false
   },
   "outputs": [
    {
     "data": {
      "text/plain": [
       "'wow, TS & Dillinja & Lemon D!!!..<br />\\r\\n<br />\\r\\ni am so going to this party.....!!!!!!'"
      ]
     },
     "execution_count": 19,
     "metadata": {},
     "output_type": "execute_result"
    }
   ],
   "source": [
    "# Look at example of body text. We can see it's got all kind of special characters we need to remove.\n",
    "\n",
    "forumsdata['body'][12]"
   ]
  },
  {
   "cell_type": "code",
   "execution_count": 20,
   "metadata": {
    "collapsed": false
   },
   "outputs": [],
   "source": [
    "# Clean up body text\n",
    "\n",
    "# Class to help parse html within a body of text\n",
    "\n",
    "class HTMLTextExtractor(HTMLParser):\n",
    "    def __init__(self):\n",
    "        HTMLParser.__init__(self)\n",
    "        self.result = [ ]\n",
    "\n",
    "    def handle_data(self, d):\n",
    "        self.result.append(d)\n",
    "\n",
    "    def handle_charref(self, number):\n",
    "        codepoint = int(number[1:], 16) if number[0] in (u'x', u'X') else int(number)\n",
    "        self.result.append(unichr(codepoint))\n",
    "\n",
    "    def handle_entityref(self, name):\n",
    "        codepoint = htmlentitydefs.name2codepoint[name]\n",
    "        self.result.append(unichr(codepoint))\n",
    "\n",
    "    def get_text(self):\n",
    "        return u''.join(self.result)\n",
    "\n",
    "# Function to call to use HTMLTextExtractor Class\n",
    "\n",
    "def html_to_text(html):\n",
    "    # Set up HTMLTextExtractor object and send for processing\n",
    "    s = HTMLTextExtractor()\n",
    "    s.feed(html)\n",
    "    return s.get_text()\n",
    "    \n",
    "def clean_string(string):\n",
    "    \n",
    "    # Dictionary used to help remove extra characters HTMLTextExtractor did not get\n",
    "    dict = {'\\\\r':' ','\\\\n':' ','\\n':' ','\\r':' ','\\u':' ','\\\\':' ','/':' ', '@':' ', '.':' ',\n",
    "            '?':' ','-':' ','!':' ',',':' ',':':' ','[':' ',']':' ', '(':' ', ')':' ','\\\"':' ',\n",
    "            '\\'':'', '#':' ','~':' ', '&':''}\n",
    "    \n",
    "    # Remove characters from dict\n",
    "    for i,j in dict.iteritems():\n",
    "         string = string.replace(i,j)\n",
    "            \n",
    "    #Remove html using html_to_text\n",
    "    string = html_to_text(string)\n",
    "            \n",
    "    # Remove some Unicode punctuation\n",
    "    string = re.sub(r\"\\u2019\",'',string)\n",
    "\n",
    "    # Remove URLs\n",
    "    string = re.sub(r\"http\\S+\", \"link\", string)\n",
    "    \n",
    "    # Remove edit tags\n",
    "    string = string.split('*$$ ')[0]\n",
    "    \n",
    "    # Return the super clean string\n",
    "    return string.encode('ascii', 'ignore')\n"
   ]
  },
  {
   "cell_type": "code",
   "execution_count": 21,
   "metadata": {
    "collapsed": false
   },
   "outputs": [],
   "source": [
    "clean_post=[]\n",
    "for post in forumsdata['body']:\n",
    "    try:\n",
    "        clean_post.append(clean_string(post.decode('utf-8')))\n",
    "    except:\n",
    "        e = sys.exc_info()[0]\n",
    "        clean_post.append(str(e))\n",
    "\n",
    "forumsdata['body'] = clean_post"
   ]
  },
  {
   "cell_type": "code",
   "execution_count": 22,
   "metadata": {
    "collapsed": false
   },
   "outputs": [
    {
     "data": {
      "text/html": [
       "<div>\n",
       "<table border=\"1\" class=\"dataframe\">\n",
       "  <thead>\n",
       "    <tr style=\"text-align: right;\">\n",
       "      <th></th>\n",
       "      <th>index</th>\n",
       "      <th>tid</th>\n",
       "      <th>pid</th>\n",
       "      <th>rid</th>\n",
       "      <th>children</th>\n",
       "      <th>subject</th>\n",
       "      <th>body</th>\n",
       "      <th>username</th>\n",
       "      <th>user_addr</th>\n",
       "      <th>mailreply</th>\n",
       "      <th>...</th>\n",
       "      <th>modifiedday</th>\n",
       "      <th>modifiedhour</th>\n",
       "      <th>modifiedminute</th>\n",
       "      <th>modifiedsecond</th>\n",
       "      <th>createdyear</th>\n",
       "      <th>createdmonth</th>\n",
       "      <th>createdday</th>\n",
       "      <th>createdhour</th>\n",
       "      <th>createdminute</th>\n",
       "      <th>createdsecond</th>\n",
       "    </tr>\n",
       "  </thead>\n",
       "  <tbody>\n",
       "    <tr>\n",
       "      <th>0</th>\n",
       "      <td>0</td>\n",
       "      <td>1.0</td>\n",
       "      <td>1.0</td>\n",
       "      <td>1.0</td>\n",
       "      <td>23.0</td>\n",
       "      <td>ok i cleared this forum out... so...</td>\n",
       "      <td>start it up again peeps      dave</td>\n",
       "      <td>eecue</td>\n",
       "      <td>208.179.230.93</td>\n",
       "      <td>0.0</td>\n",
       "      <td>...</td>\n",
       "      <td>8</td>\n",
       "      <td>1</td>\n",
       "      <td>39</td>\n",
       "      <td>40</td>\n",
       "      <td>2002</td>\n",
       "      <td>7</td>\n",
       "      <td>8</td>\n",
       "      <td>12</td>\n",
       "      <td>2</td>\n",
       "      <td>56</td>\n",
       "    </tr>\n",
       "    <tr>\n",
       "      <th>1</th>\n",
       "      <td>1</td>\n",
       "      <td>2.0</td>\n",
       "      <td>1.0</td>\n",
       "      <td>1.0</td>\n",
       "      <td>0.0</td>\n",
       "      <td>ok i cleared this forum out... so...</td>\n",
       "      <td>ouch</td>\n",
       "      <td>mudda</td>\n",
       "      <td>208.46.145.162</td>\n",
       "      <td>0.0</td>\n",
       "      <td>...</td>\n",
       "      <td>8</td>\n",
       "      <td>12</td>\n",
       "      <td>4</td>\n",
       "      <td>18</td>\n",
       "      <td>2002</td>\n",
       "      <td>7</td>\n",
       "      <td>8</td>\n",
       "      <td>12</td>\n",
       "      <td>4</td>\n",
       "      <td>18</td>\n",
       "    </tr>\n",
       "    <tr>\n",
       "      <th>2</th>\n",
       "      <td>2</td>\n",
       "      <td>3.0</td>\n",
       "      <td>3.0</td>\n",
       "      <td>3.0</td>\n",
       "      <td>4.0</td>\n",
       "      <td>Boo fucking Hoo...</td>\n",
       "      <td>No more Monday night coffee shop drum n bass  ...</td>\n",
       "      <td>kryptic</td>\n",
       "      <td>68.96.64.212</td>\n",
       "      <td>0.0</td>\n",
       "      <td>...</td>\n",
       "      <td>8</td>\n",
       "      <td>18</td>\n",
       "      <td>54</td>\n",
       "      <td>1</td>\n",
       "      <td>2002</td>\n",
       "      <td>7</td>\n",
       "      <td>8</td>\n",
       "      <td>12</td>\n",
       "      <td>13</td>\n",
       "      <td>24</td>\n",
       "    </tr>\n",
       "    <tr>\n",
       "      <th>3</th>\n",
       "      <td>3</td>\n",
       "      <td>4.0</td>\n",
       "      <td>3.0</td>\n",
       "      <td>3.0</td>\n",
       "      <td>1.0</td>\n",
       "      <td>Boo fucking Hoo...</td>\n",
       "      <td></td>\n",
       "      <td>raggamffn</td>\n",
       "      <td>66.88.157.226</td>\n",
       "      <td>0.0</td>\n",
       "      <td>...</td>\n",
       "      <td>8</td>\n",
       "      <td>12</td>\n",
       "      <td>29</td>\n",
       "      <td>39</td>\n",
       "      <td>2002</td>\n",
       "      <td>7</td>\n",
       "      <td>8</td>\n",
       "      <td>12</td>\n",
       "      <td>13</td>\n",
       "      <td>52</td>\n",
       "    </tr>\n",
       "    <tr>\n",
       "      <th>4</th>\n",
       "      <td>4</td>\n",
       "      <td>5.0</td>\n",
       "      <td>1.0</td>\n",
       "      <td>1.0</td>\n",
       "      <td>1.0</td>\n",
       "      <td>ok i cleared this forum out... so...</td>\n",
       "      <td>arghhhhhhhh</td>\n",
       "      <td>sara</td>\n",
       "      <td>209.204.144.242</td>\n",
       "      <td>0.0</td>\n",
       "      <td>...</td>\n",
       "      <td>8</td>\n",
       "      <td>12</td>\n",
       "      <td>16</td>\n",
       "      <td>17</td>\n",
       "      <td>2002</td>\n",
       "      <td>7</td>\n",
       "      <td>8</td>\n",
       "      <td>12</td>\n",
       "      <td>14</td>\n",
       "      <td>10</td>\n",
       "    </tr>\n",
       "  </tbody>\n",
       "</table>\n",
       "<p>5 rows × 30 columns</p>\n",
       "</div>"
      ],
      "text/plain": [
       "   index  tid  pid  rid  children                               subject  \\\n",
       "0      0  1.0  1.0  1.0      23.0  ok i cleared this forum out... so...   \n",
       "1      1  2.0  1.0  1.0       0.0  ok i cleared this forum out... so...   \n",
       "2      2  3.0  3.0  3.0       4.0                    Boo fucking Hoo...   \n",
       "3      3  4.0  3.0  3.0       1.0                    Boo fucking Hoo...   \n",
       "4      4  5.0  1.0  1.0       1.0  ok i cleared this forum out... so...   \n",
       "\n",
       "                                                body   username  \\\n",
       "0                  start it up again peeps      dave      eecue   \n",
       "1                                              ouch       mudda   \n",
       "2  No more Monday night coffee shop drum n bass  ...    kryptic   \n",
       "3                                                     raggamffn   \n",
       "4                                        arghhhhhhhh       sara   \n",
       "\n",
       "         user_addr  mailreply      ...        modifiedday  modifiedhour  \\\n",
       "0   208.179.230.93        0.0      ...                  8             1   \n",
       "1   208.46.145.162        0.0      ...                  8            12   \n",
       "2     68.96.64.212        0.0      ...                  8            18   \n",
       "3    66.88.157.226        0.0      ...                  8            12   \n",
       "4  209.204.144.242        0.0      ...                  8            12   \n",
       "\n",
       "  modifiedminute modifiedsecond createdyear createdmonth  createdday  \\\n",
       "0             39             40        2002            7           8   \n",
       "1              4             18        2002            7           8   \n",
       "2             54              1        2002            7           8   \n",
       "3             29             39        2002            7           8   \n",
       "4             16             17        2002            7           8   \n",
       "\n",
       "   createdhour  createdminute  createdsecond  \n",
       "0           12              2             56  \n",
       "1           12              4             18  \n",
       "2           12             13             24  \n",
       "3           12             13             52  \n",
       "4           12             14             10  \n",
       "\n",
       "[5 rows x 30 columns]"
      ]
     },
     "execution_count": 22,
     "metadata": {},
     "output_type": "execute_result"
    }
   ],
   "source": [
    "forumsdata.head()"
   ]
  },
  {
   "cell_type": "code",
   "execution_count": 23,
   "metadata": {
    "collapsed": false
   },
   "outputs": [
    {
     "data": {
      "text/plain": [
       "'i have one that i put together in August entitled systemError  if youd like a copy  hit me up on the jsm     SD TJ'"
      ]
     },
     "execution_count": 23,
     "metadata": {},
     "output_type": "execute_result"
    }
   ],
   "source": [
    "# Clean body text!\n",
    "\n",
    "forumsdata['body'][13840]"
   ]
  },
  {
   "cell_type": "code",
   "execution_count": 24,
   "metadata": {
    "collapsed": false
   },
   "outputs": [
    {
     "data": {
      "text/html": [
       "<div>\n",
       "<table border=\"1\" class=\"dataframe\">\n",
       "  <thead>\n",
       "    <tr style=\"text-align: right;\">\n",
       "      <th></th>\n",
       "      <th>index</th>\n",
       "      <th>subject</th>\n",
       "      <th>body</th>\n",
       "      <th>username</th>\n",
       "      <th>rank</th>\n",
       "      <th>status</th>\n",
       "      <th>modified</th>\n",
       "      <th>created</th>\n",
       "      <th>userstatus</th>\n",
       "      <th>closed</th>\n",
       "      <th>...</th>\n",
       "      <th>modifiedday</th>\n",
       "      <th>modifiedhour</th>\n",
       "      <th>modifiedminute</th>\n",
       "      <th>modifiedsecond</th>\n",
       "      <th>createdyear</th>\n",
       "      <th>createdmonth</th>\n",
       "      <th>createdday</th>\n",
       "      <th>createdhour</th>\n",
       "      <th>createdminute</th>\n",
       "      <th>createdsecond</th>\n",
       "    </tr>\n",
       "  </thead>\n",
       "  <tbody>\n",
       "    <tr>\n",
       "      <th>0</th>\n",
       "      <td>0</td>\n",
       "      <td>ok i cleared this forum out... so...</td>\n",
       "      <td>start it up again peeps      dave</td>\n",
       "      <td>eecue</td>\n",
       "      <td>3.0</td>\n",
       "      <td>1.0</td>\n",
       "      <td>2009-09-08 01:39:40</td>\n",
       "      <td>2002-07-08 12:02:56</td>\n",
       "      <td>administrator</td>\n",
       "      <td>0.0</td>\n",
       "      <td>...</td>\n",
       "      <td>8</td>\n",
       "      <td>1</td>\n",
       "      <td>39</td>\n",
       "      <td>40</td>\n",
       "      <td>2002</td>\n",
       "      <td>7</td>\n",
       "      <td>8</td>\n",
       "      <td>12</td>\n",
       "      <td>2</td>\n",
       "      <td>56</td>\n",
       "    </tr>\n",
       "    <tr>\n",
       "      <th>1</th>\n",
       "      <td>1</td>\n",
       "      <td>ok i cleared this forum out... so...</td>\n",
       "      <td>ouch</td>\n",
       "      <td>mudda</td>\n",
       "      <td>3.0</td>\n",
       "      <td>1.0</td>\n",
       "      <td>2002-07-08 12:04:18</td>\n",
       "      <td>2002-07-08 12:04:18</td>\n",
       "      <td>respected junglist</td>\n",
       "      <td>0.0</td>\n",
       "      <td>...</td>\n",
       "      <td>8</td>\n",
       "      <td>12</td>\n",
       "      <td>4</td>\n",
       "      <td>18</td>\n",
       "      <td>2002</td>\n",
       "      <td>7</td>\n",
       "      <td>8</td>\n",
       "      <td>12</td>\n",
       "      <td>4</td>\n",
       "      <td>18</td>\n",
       "    </tr>\n",
       "    <tr>\n",
       "      <th>2</th>\n",
       "      <td>2</td>\n",
       "      <td>Boo fucking Hoo...</td>\n",
       "      <td>No more Monday night coffee shop drum n bass  ...</td>\n",
       "      <td>kryptic</td>\n",
       "      <td>2.0</td>\n",
       "      <td>1.0</td>\n",
       "      <td>2002-07-08 18:54:01</td>\n",
       "      <td>2002-07-08 12:13:24</td>\n",
       "      <td>respected junglist</td>\n",
       "      <td>0.0</td>\n",
       "      <td>...</td>\n",
       "      <td>8</td>\n",
       "      <td>18</td>\n",
       "      <td>54</td>\n",
       "      <td>1</td>\n",
       "      <td>2002</td>\n",
       "      <td>7</td>\n",
       "      <td>8</td>\n",
       "      <td>12</td>\n",
       "      <td>13</td>\n",
       "      <td>24</td>\n",
       "    </tr>\n",
       "    <tr>\n",
       "      <th>3</th>\n",
       "      <td>3</td>\n",
       "      <td>Boo fucking Hoo...</td>\n",
       "      <td></td>\n",
       "      <td>raggamffn</td>\n",
       "      <td>3.0</td>\n",
       "      <td>1.0</td>\n",
       "      <td>2002-07-08 12:29:39</td>\n",
       "      <td>2002-07-08 12:13:52</td>\n",
       "      <td>yardie mon</td>\n",
       "      <td>0.0</td>\n",
       "      <td>...</td>\n",
       "      <td>8</td>\n",
       "      <td>12</td>\n",
       "      <td>29</td>\n",
       "      <td>39</td>\n",
       "      <td>2002</td>\n",
       "      <td>7</td>\n",
       "      <td>8</td>\n",
       "      <td>12</td>\n",
       "      <td>13</td>\n",
       "      <td>52</td>\n",
       "    </tr>\n",
       "    <tr>\n",
       "      <th>4</th>\n",
       "      <td>4</td>\n",
       "      <td>ok i cleared this forum out... so...</td>\n",
       "      <td>arghhhhhhhh</td>\n",
       "      <td>sara</td>\n",
       "      <td>3.0</td>\n",
       "      <td>1.0</td>\n",
       "      <td>2002-07-08 12:16:17</td>\n",
       "      <td>2002-07-08 12:14:10</td>\n",
       "      <td>power user</td>\n",
       "      <td>0.0</td>\n",
       "      <td>...</td>\n",
       "      <td>8</td>\n",
       "      <td>12</td>\n",
       "      <td>16</td>\n",
       "      <td>17</td>\n",
       "      <td>2002</td>\n",
       "      <td>7</td>\n",
       "      <td>8</td>\n",
       "      <td>12</td>\n",
       "      <td>14</td>\n",
       "      <td>10</td>\n",
       "    </tr>\n",
       "  </tbody>\n",
       "</table>\n",
       "<p>5 rows × 23 columns</p>\n",
       "</div>"
      ],
      "text/plain": [
       "   index                               subject  \\\n",
       "0      0  ok i cleared this forum out... so...   \n",
       "1      1  ok i cleared this forum out... so...   \n",
       "2      2                    Boo fucking Hoo...   \n",
       "3      3                    Boo fucking Hoo...   \n",
       "4      4  ok i cleared this forum out... so...   \n",
       "\n",
       "                                                body   username  rank  status  \\\n",
       "0                  start it up again peeps      dave      eecue   3.0     1.0   \n",
       "1                                              ouch       mudda   3.0     1.0   \n",
       "2  No more Monday night coffee shop drum n bass  ...    kryptic   2.0     1.0   \n",
       "3                                                     raggamffn   3.0     1.0   \n",
       "4                                        arghhhhhhhh       sara   3.0     1.0   \n",
       "\n",
       "             modified             created          userstatus  closed  \\\n",
       "0 2009-09-08 01:39:40 2002-07-08 12:02:56       administrator     0.0   \n",
       "1 2002-07-08 12:04:18 2002-07-08 12:04:18  respected junglist     0.0   \n",
       "2 2002-07-08 18:54:01 2002-07-08 12:13:24  respected junglist     0.0   \n",
       "3 2002-07-08 12:29:39 2002-07-08 12:13:52          yardie mon     0.0   \n",
       "4 2002-07-08 12:16:17 2002-07-08 12:14:10          power user     0.0   \n",
       "\n",
       "       ...        modifiedday  modifiedhour  modifiedminute  modifiedsecond  \\\n",
       "0      ...                  8             1              39              40   \n",
       "1      ...                  8            12               4              18   \n",
       "2      ...                  8            18              54               1   \n",
       "3      ...                  8            12              29              39   \n",
       "4      ...                  8            12              16              17   \n",
       "\n",
       "   createdyear  createdmonth  createdday  createdhour  createdminute  \\\n",
       "0         2002             7           8           12              2   \n",
       "1         2002             7           8           12              4   \n",
       "2         2002             7           8           12             13   \n",
       "3         2002             7           8           12             13   \n",
       "4         2002             7           8           12             14   \n",
       "\n",
       "   createdsecond  \n",
       "0             56  \n",
       "1             18  \n",
       "2             24  \n",
       "3             52  \n",
       "4             10  \n",
       "\n",
       "[5 rows x 23 columns]"
      ]
     },
     "execution_count": 24,
     "metadata": {},
     "output_type": "execute_result"
    }
   ],
   "source": [
    "# Getting rid of features that don't make sense as predictors\n",
    "\n",
    "del_cols = ['tid', 'pid', 'rid', 'children', 'user_addr', 'mailreply', 'lastip']\n",
    "\n",
    "forumsdata = forumsdata.drop(del_cols, axis = 1)\n",
    "forumsdata.head()"
   ]
  },
  {
   "cell_type": "code",
   "execution_count": 25,
   "metadata": {
    "collapsed": false
   },
   "outputs": [],
   "source": [
    "# Eliminate posts with empty bodys. Most likely these were posts made up entirely of html. There were only ~7000 posts\n",
    "# like this, of which only 65 were from closed threads.\n",
    "\n",
    "forumsdata = forumsdata.drop(forumsdata[forumsdata['body']==''].index)\n",
    "forumsdata = forumsdata.drop(forumsdata[forumsdata['subject']==''].index)"
   ]
  },
  {
   "cell_type": "code",
   "execution_count": 26,
   "metadata": {
    "collapsed": false
   },
   "outputs": [
    {
     "data": {
      "text/html": [
       "<div>\n",
       "<table border=\"1\" class=\"dataframe\">\n",
       "  <thead>\n",
       "    <tr style=\"text-align: right;\">\n",
       "      <th></th>\n",
       "      <th>index</th>\n",
       "      <th>subject</th>\n",
       "      <th>body</th>\n",
       "      <th>username</th>\n",
       "      <th>rank</th>\n",
       "      <th>status</th>\n",
       "      <th>modified</th>\n",
       "      <th>created</th>\n",
       "      <th>userstatus</th>\n",
       "      <th>closed</th>\n",
       "      <th>...</th>\n",
       "      <th>modifiedday</th>\n",
       "      <th>modifiedhour</th>\n",
       "      <th>modifiedminute</th>\n",
       "      <th>modifiedsecond</th>\n",
       "      <th>createdyear</th>\n",
       "      <th>createdmonth</th>\n",
       "      <th>createdday</th>\n",
       "      <th>createdhour</th>\n",
       "      <th>createdminute</th>\n",
       "      <th>createdsecond</th>\n",
       "    </tr>\n",
       "  </thead>\n",
       "  <tbody>\n",
       "  </tbody>\n",
       "</table>\n",
       "<p>0 rows × 23 columns</p>\n",
       "</div>"
      ],
      "text/plain": [
       "Empty DataFrame\n",
       "Columns: [index, subject, body, username, rank, status, modified, created, userstatus, closed, forum_id, modifiedyear, modifiedmonth, modifiedday, modifiedhour, modifiedminute, modifiedsecond, createdyear, createdmonth, createdday, createdhour, createdminute, createdsecond]\n",
       "Index: []\n",
       "\n",
       "[0 rows x 23 columns]"
      ]
     },
     "execution_count": 26,
     "metadata": {},
     "output_type": "execute_result"
    }
   ],
   "source": [
    "forumsdata[forumsdata['subject']=='']"
   ]
  },
  {
   "cell_type": "code",
   "execution_count": 27,
   "metadata": {
    "collapsed": false
   },
   "outputs": [
    {
     "data": {
      "text/plain": [
       "eecue               222\n",
       "unifire             116\n",
       "broken_records       74\n",
       "kellyd               37\n",
       "piston22             36\n",
       "bring_the_rukus      36\n",
       "circuit              33\n",
       "djdmt                30\n",
       "world.renowned       27\n",
       "uniteddnb            26\n",
       "djcalculon           26\n",
       "aero                 25\n",
       "zona                 25\n",
       "jos                  25\n",
       "melicious            25\n",
       "dublg                25\n",
       "djunit               24\n",
       "aurakul              24\n",
       "mainframe            23\n",
       "step_correct         23\n",
       "thepoet              22\n",
       "peteg2               22\n",
       "krezrock             22\n",
       "mandy                21\n",
       "outsource            20\n",
       "mc.xyz               19\n",
       "stikygreen2001       18\n",
       "teekay               18\n",
       "twotokes             18\n",
       "t3___                18\n",
       "                   ... \n",
       "djmurdok              1\n",
       "drumaddict            1\n",
       "clutch                1\n",
       "subsequence           1\n",
       "sida                  1\n",
       "outletdnb             1\n",
       "psidream              1\n",
       "candyce.              1\n",
       "needledamage          1\n",
       "shawnliu              1\n",
       "muddy_mudskipper      1\n",
       "rfx                   1\n",
       "namaste               1\n",
       "maker                 1\n",
       "katalyst20            1\n",
       "junglebastard         1\n",
       "auz420                1\n",
       "pimpb0t               1\n",
       "mosthigh              1\n",
       "jts                   1\n",
       "djru                  1\n",
       "the3vilsix            1\n",
       "clos                  1\n",
       "hell                  1\n",
       "manmythlegend         1\n",
       "phliptphysics         1\n",
       "dogstarman            1\n",
       "dirtyt                1\n",
       "spy4u                 1\n",
       "b.o.b.                1\n",
       "Name: username, dtype: int64"
      ]
     },
     "execution_count": 27,
     "metadata": {},
     "output_type": "execute_result"
    }
   ],
   "source": [
    "# Top posters in closed threads\n",
    "\n",
    "forumsdata[forumsdata['closed']==1]['username'].value_counts()"
   ]
  },
  {
   "cell_type": "code",
   "execution_count": 28,
   "metadata": {
    "collapsed": false
   },
   "outputs": [
    {
     "data": {
      "text/plain": [
       "unifire            7654\n",
       "mc.xyz             6774\n",
       "aurakul            6670\n",
       "eecue              6606\n",
       "djcalculon         6134\n",
       "djdmt              5314\n",
       "kellyd             5077\n",
       "thepoet            4643\n",
       "uniteddnb          4240\n",
       "djkgb              4181\n",
       "teekay             3733\n",
       "world.renowned     3649\n",
       "themenace          3582\n",
       "circuit            3554\n",
       "dj.com             3233\n",
       "melicious          3182\n",
       "magnafide          3152\n",
       "jos                3126\n",
       "missanita          3116\n",
       "slapinfunk         3111\n",
       "chrisk             3107\n",
       "probable_cause     3104\n",
       "mainframe          3076\n",
       "alan               3075\n",
       "aero               3067\n",
       "blaze13            2989\n",
       "misundastood       2943\n",
       "jigsaw             2895\n",
       "broken_records     2837\n",
       "zona               2835\n",
       "                   ... \n",
       "jimturns              1\n",
       "pandacutie            1\n",
       "preshacrew            1\n",
       "geist                 1\n",
       "redarmyaudio          1\n",
       "candikane             1\n",
       "grumpydeacon          1\n",
       "leelou                1\n",
       "newpuppygallery       1\n",
       "showstoppa            1\n",
       "kicksdirt             1\n",
       "billyjuan             1\n",
       "excessht              1\n",
       "rollingmovie          1\n",
       "internetuser          1\n",
       "the_ladies            1\n",
       "kazeem445             1\n",
       "mergeevents           1\n",
       "jamesdenoil           1\n",
       "studdad               1\n",
       "djtrainwreck          1\n",
       "freshfry              1\n",
       "plater                1\n",
       "deeps1                1\n",
       "sunmapsman            1\n",
       "moses420              1\n",
       "jks                   1\n",
       "okiedokiedookie       1\n",
       "junglefresh           1\n",
       "sarahgondal           1\n",
       "Name: username, dtype: int64"
      ]
     },
     "execution_count": 28,
     "metadata": {},
     "output_type": "execute_result"
    }
   ],
   "source": [
    "# Top posters in open threads\n",
    "forumsdata[forumsdata['closed']==0]['username'].value_counts()"
   ]
  },
  {
   "cell_type": "code",
   "execution_count": 29,
   "metadata": {
    "collapsed": false
   },
   "outputs": [
    {
     "data": {
      "text/plain": [
       "unifire              7770\n",
       "eecue                6828\n",
       "mc.xyz               6793\n",
       "aurakul              6694\n",
       "djcalculon           6160\n",
       "djdmt                5344\n",
       "kellyd               5114\n",
       "thepoet              4665\n",
       "uniteddnb            4266\n",
       "djkgb                4196\n",
       "teekay               3751\n",
       "world.renowned       3676\n",
       "themenace            3596\n",
       "circuit              3587\n",
       "dj.com               3246\n",
       "melicious            3207\n",
       "magnafide            3158\n",
       "jos                  3151\n",
       "missanita            3130\n",
       "chrisk               3119\n",
       "slapinfunk           3117\n",
       "probable_cause       3107\n",
       "mainframe            3099\n",
       "aero                 3092\n",
       "alan                 3091\n",
       "blaze13              3007\n",
       "misundastood         2951\n",
       "broken_records       2911\n",
       "jigsaw               2909\n",
       "zona                 2860\n",
       "                     ... \n",
       "dtatg                   1\n",
       "lilsweenbaby            1\n",
       "kats                    1\n",
       "immunej                 1\n",
       "mcgutter_bass           1\n",
       "d0.0bwatcherd0.0b       1\n",
       "theintruder             1\n",
       "djmx2006                1\n",
       "simiunclekernal         1\n",
       "chxll                   1\n",
       "kinetik                 1\n",
       "yy                      1\n",
       "cosmobrown              1\n",
       "plantob                 1\n",
       "olcyrus.dnb             1\n",
       "the_archangel           1\n",
       "handgelina              1\n",
       "rollercoasterlife       1\n",
       "dirt                    1\n",
       "esrervart               1\n",
       "citrusonic              1\n",
       "kay                     1\n",
       "greencode               1\n",
       "paranoid                1\n",
       "drhunglo                1\n",
       "diabeatz                1\n",
       "tonic_groove            1\n",
       "onkyotajawk             1\n",
       "naturalselection        1\n",
       "sarahgondal             1\n",
       "Name: username, dtype: int64"
      ]
     },
     "execution_count": 29,
     "metadata": {},
     "output_type": "execute_result"
    }
   ],
   "source": [
    "# Top posters in all threads\n",
    "forumsdata['username'].value_counts()"
   ]
  },
  {
   "cell_type": "markdown",
   "metadata": {},
   "source": [
    "# Create aggregate DataFrame threaddf \n",
    "\n",
    "### Used to collect whole thread stats"
   ]
  },
  {
   "cell_type": "code",
   "execution_count": 30,
   "metadata": {
    "collapsed": false
   },
   "outputs": [],
   "source": [
    "# Create aggregate Dataframe to collect whole thread stats\n",
    "\n",
    "threaddf = pd.DataFrame(forumsdata.groupby('subject').first().forum_id).astype(int)\n",
    "threaddf = threaddf.reset_index()"
   ]
  },
  {
   "cell_type": "code",
   "execution_count": 31,
   "metadata": {
    "collapsed": false
   },
   "outputs": [
    {
     "data": {
      "text/html": [
       "<div>\n",
       "<table border=\"1\" class=\"dataframe\">\n",
       "  <thead>\n",
       "    <tr style=\"text-align: right;\">\n",
       "      <th></th>\n",
       "      <th>subject</th>\n",
       "      <th>forum_id</th>\n",
       "    </tr>\n",
       "  </thead>\n",
       "  <tbody>\n",
       "    <tr>\n",
       "      <th>0</th>\n",
       "      <td>\\r\\n Auto Loan Calculators\\r\\n</td>\n",
       "      <td>1</td>\n",
       "    </tr>\n",
       "    <tr>\n",
       "      <th>1</th>\n",
       "      <td>\\r\\nChase &amp; Status - The Breezeblock Mix 12/20...</td>\n",
       "      <td>125</td>\n",
       "    </tr>\n",
       "    <tr>\n",
       "      <th>2</th>\n",
       "      <td>\\r\\nCompaq Netbook Best Buy\\r\\n</td>\n",
       "      <td>1</td>\n",
       "    </tr>\n",
       "    <tr>\n",
       "      <th>3</th>\n",
       "      <td>\\r\\nFree Agent- Calibre Mix</td>\n",
       "      <td>125</td>\n",
       "    </tr>\n",
       "    <tr>\n",
       "      <th>4</th>\n",
       "      <td>\\r\\nLoxy &amp; Ink- The Horseman Apocalypse\\r\\n</td>\n",
       "      <td>125</td>\n",
       "    </tr>\n",
       "  </tbody>\n",
       "</table>\n",
       "</div>"
      ],
      "text/plain": [
       "                                             subject  forum_id\n",
       "0                     \\r\\n Auto Loan Calculators\\r\\n         1\n",
       "1  \\r\\nChase & Status - The Breezeblock Mix 12/20...       125\n",
       "2                    \\r\\nCompaq Netbook Best Buy\\r\\n         1\n",
       "3                        \\r\\nFree Agent- Calibre Mix       125\n",
       "4        \\r\\nLoxy & Ink- The Horseman Apocalypse\\r\\n       125"
      ]
     },
     "execution_count": 31,
     "metadata": {},
     "output_type": "execute_result"
    }
   ],
   "source": [
    "threaddf.head()"
   ]
  },
  {
   "cell_type": "code",
   "execution_count": 32,
   "metadata": {
    "collapsed": false
   },
   "outputs": [],
   "source": [
    "# Creating some features for threaddf\n",
    "\n",
    "threaddf['timelength'] = list(forumsdata.groupby('subject')['created'].max()-forumsdata.groupby('subject')['created'].min())\n",
    "threaddf['threadlength'] = list(forumsdata.groupby('subject').size())\n",
    "threaddf['timelength'] = threaddf['timelength']+datetime.timedelta(0,1)\n",
    "threaddf['post_per_sec'] = threaddf['threadlength']/threaddf['timelength'].apply(lambda x: x.total_seconds())\n",
    "threaddf['most_common_user'] = list(forumsdata.groupby('subject')['username'].agg(lambda x: x.value_counts().index[0]))"
   ]
  },
  {
   "cell_type": "code",
   "execution_count": 33,
   "metadata": {
    "collapsed": false
   },
   "outputs": [
    {
     "data": {
      "text/html": [
       "<div>\n",
       "<table border=\"1\" class=\"dataframe\">\n",
       "  <thead>\n",
       "    <tr style=\"text-align: right;\">\n",
       "      <th></th>\n",
       "      <th>subject</th>\n",
       "      <th>forum_id</th>\n",
       "      <th>timelength</th>\n",
       "      <th>threadlength</th>\n",
       "      <th>post_per_sec</th>\n",
       "      <th>most_common_user</th>\n",
       "    </tr>\n",
       "  </thead>\n",
       "  <tbody>\n",
       "  </tbody>\n",
       "</table>\n",
       "</div>"
      ],
      "text/plain": [
       "Empty DataFrame\n",
       "Columns: [subject, forum_id, timelength, threadlength, post_per_sec, most_common_user]\n",
       "Index: []"
      ]
     },
     "execution_count": 33,
     "metadata": {},
     "output_type": "execute_result"
    }
   ],
   "source": [
    "threaddf[(threaddf['post_per_sec']<0)]"
   ]
  },
  {
   "cell_type": "code",
   "execution_count": 34,
   "metadata": {
    "collapsed": false
   },
   "outputs": [
    {
     "data": {
      "text/html": [
       "<div>\n",
       "<table border=\"1\" class=\"dataframe\">\n",
       "  <thead>\n",
       "    <tr style=\"text-align: right;\">\n",
       "      <th></th>\n",
       "      <th>subject</th>\n",
       "      <th>forum_id</th>\n",
       "      <th>timelength</th>\n",
       "      <th>threadlength</th>\n",
       "      <th>post_per_sec</th>\n",
       "      <th>most_common_user</th>\n",
       "    </tr>\n",
       "  </thead>\n",
       "  <tbody>\n",
       "    <tr>\n",
       "      <th>0</th>\n",
       "      <td>\\r\\n Auto Loan Calculators\\r\\n</td>\n",
       "      <td>1</td>\n",
       "      <td>00:00:01</td>\n",
       "      <td>1</td>\n",
       "      <td>1.0</td>\n",
       "      <td>unmatagak</td>\n",
       "    </tr>\n",
       "    <tr>\n",
       "      <th>1</th>\n",
       "      <td>\\r\\nChase &amp; Status - The Breezeblock Mix 12/20...</td>\n",
       "      <td>125</td>\n",
       "      <td>00:00:01</td>\n",
       "      <td>1</td>\n",
       "      <td>1.0</td>\n",
       "      <td>myfb</td>\n",
       "    </tr>\n",
       "    <tr>\n",
       "      <th>2</th>\n",
       "      <td>\\r\\nCompaq Netbook Best Buy\\r\\n</td>\n",
       "      <td>1</td>\n",
       "      <td>00:00:01</td>\n",
       "      <td>1</td>\n",
       "      <td>1.0</td>\n",
       "      <td>mefemismmaf</td>\n",
       "    </tr>\n",
       "    <tr>\n",
       "      <th>3</th>\n",
       "      <td>\\r\\nFree Agent- Calibre Mix</td>\n",
       "      <td>125</td>\n",
       "      <td>00:00:01</td>\n",
       "      <td>1</td>\n",
       "      <td>1.0</td>\n",
       "      <td>myfb</td>\n",
       "    </tr>\n",
       "    <tr>\n",
       "      <th>4</th>\n",
       "      <td>\\r\\nLoxy &amp; Ink- The Horseman Apocalypse\\r\\n</td>\n",
       "      <td>125</td>\n",
       "      <td>00:00:01</td>\n",
       "      <td>1</td>\n",
       "      <td>1.0</td>\n",
       "      <td>myfb</td>\n",
       "    </tr>\n",
       "  </tbody>\n",
       "</table>\n",
       "</div>"
      ],
      "text/plain": [
       "                                             subject  forum_id  timelength  \\\n",
       "0                     \\r\\n Auto Loan Calculators\\r\\n         1    00:00:01   \n",
       "1  \\r\\nChase & Status - The Breezeblock Mix 12/20...       125    00:00:01   \n",
       "2                    \\r\\nCompaq Netbook Best Buy\\r\\n         1    00:00:01   \n",
       "3                        \\r\\nFree Agent- Calibre Mix       125    00:00:01   \n",
       "4        \\r\\nLoxy & Ink- The Horseman Apocalypse\\r\\n       125    00:00:01   \n",
       "\n",
       "   threadlength  post_per_sec most_common_user  \n",
       "0             1           1.0        unmatagak  \n",
       "1             1           1.0             myfb  \n",
       "2             1           1.0      mefemismmaf  \n",
       "3             1           1.0             myfb  \n",
       "4             1           1.0             myfb  "
      ]
     },
     "execution_count": 34,
     "metadata": {},
     "output_type": "execute_result"
    }
   ],
   "source": [
    "threaddf.head()"
   ]
  },
  {
   "cell_type": "code",
   "execution_count": 35,
   "metadata": {
    "collapsed": false
   },
   "outputs": [],
   "source": [
    "# Removes reply text from posts. This ensures that another user's sentiments aren't a) repeated in the thread, \n",
    "# and b) influencing the sentiment of another user's post\n",
    "\n",
    "for i in list(forumsdata['body'].index):\n",
    "    if '**********' in forumsdata['body'][i]:\n",
    "        head, sep, tail = forumsdata['body'][i].partition('**********')\n",
    "        forumsdata.set_value(i, 'body', head)"
   ]
  },
  {
   "cell_type": "code",
   "execution_count": 36,
   "metadata": {
    "collapsed": false
   },
   "outputs": [],
   "source": [
    "# Make dependent variable type integer.\n",
    "\n",
    "threaddf['closed'] = list(forumsdata.groupby('subject')['closed'].first().astype(int))"
   ]
  },
  {
   "cell_type": "code",
   "execution_count": 37,
   "metadata": {
    "collapsed": false
   },
   "outputs": [
    {
     "data": {
      "text/html": [
       "<div>\n",
       "<table border=\"1\" class=\"dataframe\">\n",
       "  <thead>\n",
       "    <tr style=\"text-align: right;\">\n",
       "      <th></th>\n",
       "      <th>forum_id</th>\n",
       "      <th>timelength</th>\n",
       "      <th>threadlength</th>\n",
       "      <th>post_per_sec</th>\n",
       "      <th>closed</th>\n",
       "    </tr>\n",
       "  </thead>\n",
       "  <tbody>\n",
       "    <tr>\n",
       "      <th>count</th>\n",
       "      <td>88612.000000</td>\n",
       "      <td>88612</td>\n",
       "      <td>88612.000000</td>\n",
       "      <td>8.861200e+04</td>\n",
       "      <td>88612.000000</td>\n",
       "    </tr>\n",
       "    <tr>\n",
       "      <th>mean</th>\n",
       "      <td>26.254920</td>\n",
       "      <td>17 days 04:54:09.859815</td>\n",
       "      <td>7.488444</td>\n",
       "      <td>3.398217e-01</td>\n",
       "      <td>0.002212</td>\n",
       "    </tr>\n",
       "    <tr>\n",
       "      <th>std</th>\n",
       "      <td>42.381338</td>\n",
       "      <td>141 days 07:54:03.426657</td>\n",
       "      <td>14.384611</td>\n",
       "      <td>4.948479e-01</td>\n",
       "      <td>0.046979</td>\n",
       "    </tr>\n",
       "    <tr>\n",
       "      <th>min</th>\n",
       "      <td>1.000000</td>\n",
       "      <td>0 days 00:00:01</td>\n",
       "      <td>1.000000</td>\n",
       "      <td>4.410208e-09</td>\n",
       "      <td>0.000000</td>\n",
       "    </tr>\n",
       "    <tr>\n",
       "      <th>25%</th>\n",
       "      <td>1.000000</td>\n",
       "      <td>0 days 00:00:01</td>\n",
       "      <td>1.000000</td>\n",
       "      <td>2.707743e-05</td>\n",
       "      <td>0.000000</td>\n",
       "    </tr>\n",
       "    <tr>\n",
       "      <th>50%</th>\n",
       "      <td>2.000000</td>\n",
       "      <td>0 days 07:43:47.500000</td>\n",
       "      <td>3.000000</td>\n",
       "      <td>2.032155e-04</td>\n",
       "      <td>0.000000</td>\n",
       "    </tr>\n",
       "    <tr>\n",
       "      <th>75%</th>\n",
       "      <td>40.000000</td>\n",
       "      <td>3 days 14:57:15.500000</td>\n",
       "      <td>9.000000</td>\n",
       "      <td>1.000000e+00</td>\n",
       "      <td>0.000000</td>\n",
       "    </tr>\n",
       "    <tr>\n",
       "      <th>max</th>\n",
       "      <td>137.000000</td>\n",
       "      <td>5248 days 18:22:15</td>\n",
       "      <td>2156.000000</td>\n",
       "      <td>3.000000e+00</td>\n",
       "      <td>1.000000</td>\n",
       "    </tr>\n",
       "  </tbody>\n",
       "</table>\n",
       "</div>"
      ],
      "text/plain": [
       "           forum_id                timelength  threadlength  post_per_sec  \\\n",
       "count  88612.000000                     88612  88612.000000  8.861200e+04   \n",
       "mean      26.254920   17 days 04:54:09.859815      7.488444  3.398217e-01   \n",
       "std       42.381338  141 days 07:54:03.426657     14.384611  4.948479e-01   \n",
       "min        1.000000           0 days 00:00:01      1.000000  4.410208e-09   \n",
       "25%        1.000000           0 days 00:00:01      1.000000  2.707743e-05   \n",
       "50%        2.000000    0 days 07:43:47.500000      3.000000  2.032155e-04   \n",
       "75%       40.000000    3 days 14:57:15.500000      9.000000  1.000000e+00   \n",
       "max      137.000000        5248 days 18:22:15   2156.000000  3.000000e+00   \n",
       "\n",
       "             closed  \n",
       "count  88612.000000  \n",
       "mean       0.002212  \n",
       "std        0.046979  \n",
       "min        0.000000  \n",
       "25%        0.000000  \n",
       "50%        0.000000  \n",
       "75%        0.000000  \n",
       "max        1.000000  "
      ]
     },
     "execution_count": 37,
     "metadata": {},
     "output_type": "execute_result"
    }
   ],
   "source": [
    "threaddf.describe()"
   ]
  },
  {
   "cell_type": "markdown",
   "metadata": {},
   "source": [
    "# Create Sentiment Ratings For Each Post"
   ]
  },
  {
   "cell_type": "code",
   "execution_count": 38,
   "metadata": {
    "collapsed": true
   },
   "outputs": [],
   "source": [
    "# Lexicon of negative words\n",
    "neg = pd.read_csv('opinion-lexicon-English/negative-words.csv')"
   ]
  },
  {
   "cell_type": "code",
   "execution_count": 39,
   "metadata": {
    "collapsed": true
   },
   "outputs": [],
   "source": [
    "# Lexicon of positive words\n",
    "pos = pd.read_csv('opinion-lexicon-English/positive-words.csv')"
   ]
  },
  {
   "cell_type": "code",
   "execution_count": 40,
   "metadata": {
    "collapsed": true
   },
   "outputs": [],
   "source": [
    "# Both of the lists above were provided by the paper: \n",
    "# Minqing Hu and Bing Liu. \"Mining and Summarizing Customer Reviews.\" \n",
    "# Proceedings of the ACM SIGKDD International Conference on Knowledge \n",
    "# Discovery and Data Mining (KDD-2004), Aug 22-25, 2004, Seattle, Washington, USA "
   ]
  },
  {
   "cell_type": "code",
   "execution_count": 41,
   "metadata": {
    "collapsed": false
   },
   "outputs": [
    {
     "data": {
      "text/html": [
       "<div>\n",
       "<table border=\"1\" class=\"dataframe\">\n",
       "  <thead>\n",
       "    <tr style=\"text-align: right;\">\n",
       "      <th></th>\n",
       "      <th>words</th>\n",
       "    </tr>\n",
       "  </thead>\n",
       "  <tbody>\n",
       "    <tr>\n",
       "      <th>0</th>\n",
       "      <td>2-faced</td>\n",
       "    </tr>\n",
       "    <tr>\n",
       "      <th>1</th>\n",
       "      <td>2-faces</td>\n",
       "    </tr>\n",
       "    <tr>\n",
       "      <th>2</th>\n",
       "      <td>abnormal</td>\n",
       "    </tr>\n",
       "    <tr>\n",
       "      <th>3</th>\n",
       "      <td>abolish</td>\n",
       "    </tr>\n",
       "    <tr>\n",
       "      <th>4</th>\n",
       "      <td>abominable</td>\n",
       "    </tr>\n",
       "  </tbody>\n",
       "</table>\n",
       "</div>"
      ],
      "text/plain": [
       "        words\n",
       "0     2-faced\n",
       "1     2-faces\n",
       "2    abnormal\n",
       "3     abolish\n",
       "4  abominable"
      ]
     },
     "execution_count": 41,
     "metadata": {},
     "output_type": "execute_result"
    }
   ],
   "source": [
    "neg.head()"
   ]
  },
  {
   "cell_type": "code",
   "execution_count": 42,
   "metadata": {
    "collapsed": false
   },
   "outputs": [
    {
     "data": {
      "text/html": [
       "<div>\n",
       "<table border=\"1\" class=\"dataframe\">\n",
       "  <thead>\n",
       "    <tr style=\"text-align: right;\">\n",
       "      <th></th>\n",
       "      <th>words</th>\n",
       "    </tr>\n",
       "  </thead>\n",
       "  <tbody>\n",
       "    <tr>\n",
       "      <th>0</th>\n",
       "      <td>a+</td>\n",
       "    </tr>\n",
       "    <tr>\n",
       "      <th>1</th>\n",
       "      <td>abound</td>\n",
       "    </tr>\n",
       "    <tr>\n",
       "      <th>2</th>\n",
       "      <td>abounds</td>\n",
       "    </tr>\n",
       "    <tr>\n",
       "      <th>3</th>\n",
       "      <td>abundance</td>\n",
       "    </tr>\n",
       "    <tr>\n",
       "      <th>4</th>\n",
       "      <td>abundant</td>\n",
       "    </tr>\n",
       "  </tbody>\n",
       "</table>\n",
       "</div>"
      ],
      "text/plain": [
       "       words\n",
       "0         a+\n",
       "1     abound\n",
       "2    abounds\n",
       "3  abundance\n",
       "4   abundant"
      ]
     },
     "execution_count": 42,
     "metadata": {},
     "output_type": "execute_result"
    }
   ],
   "source": [
    "pos.head()"
   ]
  },
  {
   "cell_type": "code",
   "execution_count": 43,
   "metadata": {
    "collapsed": false
   },
   "outputs": [],
   "source": [
    "# Creates a sentiment rating for all posts in forumsdata. Averages all positive and negative words \n",
    "# in the post that are shared with two lists\n",
    "\n",
    "pos_set = set(pd.read_csv('opinion-lexicon-English/positive-words.csv')['words'])\n",
    "neg_set = set(pd.read_csv('opinion-lexicon-English/negative-words.csv')['words'])\n",
    "forumsdata['sent_rating'] =np.nan\n",
    "\n",
    "for index in forumsdata.index:\n",
    "    post = forumsdata['body'][index]\n",
    "    post_set = set(post.split())\n",
    "    forumsdata.set_value(index, 'sent_rating', np.mean([len(set.intersection(post_set, pos_set)), \n",
    "                                              -1*len(set.intersection(post_set, neg_set))]))"
   ]
  },
  {
   "cell_type": "code",
   "execution_count": 44,
   "metadata": {
    "collapsed": false
   },
   "outputs": [
    {
     "data": {
      "text/html": [
       "<div>\n",
       "<table border=\"1\" class=\"dataframe\">\n",
       "  <thead>\n",
       "    <tr style=\"text-align: right;\">\n",
       "      <th></th>\n",
       "      <th>body</th>\n",
       "      <th>sent_rating</th>\n",
       "    </tr>\n",
       "  </thead>\n",
       "  <tbody>\n",
       "    <tr>\n",
       "      <th>0</th>\n",
       "      <td>start it up again peeps      dave</td>\n",
       "      <td>0.0</td>\n",
       "    </tr>\n",
       "    <tr>\n",
       "      <th>1</th>\n",
       "      <td>ouch</td>\n",
       "      <td>0.0</td>\n",
       "    </tr>\n",
       "    <tr>\n",
       "      <th>2</th>\n",
       "      <td>No more Monday night coffee shop drum n bass  ...</td>\n",
       "      <td>0.0</td>\n",
       "    </tr>\n",
       "    <tr>\n",
       "      <th>3</th>\n",
       "      <td></td>\n",
       "      <td>0.0</td>\n",
       "    </tr>\n",
       "    <tr>\n",
       "      <th>4</th>\n",
       "      <td>arghhhhhhhh</td>\n",
       "      <td>0.0</td>\n",
       "    </tr>\n",
       "    <tr>\n",
       "      <th>5</th>\n",
       "      <td>hahaha   oops</td>\n",
       "      <td>0.0</td>\n",
       "    </tr>\n",
       "    <tr>\n",
       "      <th>6</th>\n",
       "      <td>26c Presents Summer Dreams  Drum  Bass Arena  ...</td>\n",
       "      <td>0.0</td>\n",
       "    </tr>\n",
       "    <tr>\n",
       "      <th>7</th>\n",
       "      <td>call em at home peez</td>\n",
       "      <td>0.0</td>\n",
       "    </tr>\n",
       "    <tr>\n",
       "      <th>8</th>\n",
       "      <td>wasnt there a fight last week</td>\n",
       "      <td>0.0</td>\n",
       "    </tr>\n",
       "    <tr>\n",
       "      <th>9</th>\n",
       "      <td>Kickin it ol skool style     bombing the stree...</td>\n",
       "      <td>0.0</td>\n",
       "    </tr>\n",
       "    <tr>\n",
       "      <th>10</th>\n",
       "      <td>anyone know how to get a hold of Jason Angel  ...</td>\n",
       "      <td>0.5</td>\n",
       "    </tr>\n",
       "    <tr>\n",
       "      <th>11</th>\n",
       "      <td>sauce call me</td>\n",
       "      <td>0.0</td>\n",
       "    </tr>\n",
       "    <tr>\n",
       "      <th>12</th>\n",
       "      <td>wow  TS  Dillinja  Lemon D         i am so goi...</td>\n",
       "      <td>0.5</td>\n",
       "    </tr>\n",
       "    <tr>\n",
       "      <th>13</th>\n",
       "      <td>having some server issues    think i fixed eve...</td>\n",
       "      <td>-0.5</td>\n",
       "    </tr>\n",
       "    <tr>\n",
       "      <th>14</th>\n",
       "      <td>SLEEVELESS SF WANTS TO GIVE A BIG SHOUT OUT AN...</td>\n",
       "      <td>0.0</td>\n",
       "    </tr>\n",
       "    <tr>\n",
       "      <th>15</th>\n",
       "      <td>heres last nights show  enjoy     01  lemon d ...</td>\n",
       "      <td>-2.5</td>\n",
       "    </tr>\n",
       "    <tr>\n",
       "      <th>16</th>\n",
       "      <td>drum and bass was introduced to me by a few of...</td>\n",
       "      <td>1.0</td>\n",
       "    </tr>\n",
       "    <tr>\n",
       "      <th>17</th>\n",
       "      <td>www breakbeat co uk  heres where to start man ...</td>\n",
       "      <td>-0.5</td>\n",
       "    </tr>\n",
       "    <tr>\n",
       "      <th>18</th>\n",
       "      <td>dara  full circle</td>\n",
       "      <td>0.0</td>\n",
       "    </tr>\n",
       "    <tr>\n",
       "      <th>19</th>\n",
       "      <td>thanks girls  We definately had a great time  ...</td>\n",
       "      <td>0.5</td>\n",
       "    </tr>\n",
       "  </tbody>\n",
       "</table>\n",
       "</div>"
      ],
      "text/plain": [
       "                                                 body  sent_rating\n",
       "0                   start it up again peeps      dave          0.0\n",
       "1                                               ouch           0.0\n",
       "2   No more Monday night coffee shop drum n bass  ...          0.0\n",
       "3                                                              0.0\n",
       "4                                         arghhhhhhhh          0.0\n",
       "5                                      hahaha   oops           0.0\n",
       "6   26c Presents Summer Dreams  Drum  Bass Arena  ...          0.0\n",
       "7                            call em at home peez              0.0\n",
       "8                      wasnt there a fight last week           0.0\n",
       "9   Kickin it ol skool style     bombing the stree...          0.0\n",
       "10  anyone know how to get a hold of Jason Angel  ...          0.5\n",
       "11                                      sauce call me          0.0\n",
       "12  wow  TS  Dillinja  Lemon D         i am so goi...          0.5\n",
       "13  having some server issues    think i fixed eve...         -0.5\n",
       "14  SLEEVELESS SF WANTS TO GIVE A BIG SHOUT OUT AN...          0.0\n",
       "15  heres last nights show  enjoy     01  lemon d ...         -2.5\n",
       "16  drum and bass was introduced to me by a few of...          1.0\n",
       "17  www breakbeat co uk  heres where to start man ...         -0.5\n",
       "18                                  dara  full circle          0.0\n",
       "19  thanks girls  We definately had a great time  ...          0.5"
      ]
     },
     "execution_count": 44,
     "metadata": {},
     "output_type": "execute_result"
    }
   ],
   "source": [
    "forumsdata[['body', 'sent_rating']].head(20) "
   ]
  },
  {
   "cell_type": "code",
   "execution_count": 45,
   "metadata": {
    "collapsed": false
   },
   "outputs": [
    {
     "name": "stdout",
     "output_type": "stream",
     "text": [
      "I remember that Narnia party  that shit was dope  A crazy lineup playing for hardly anyone \n",
      "-1.5\n"
     ]
    }
   ],
   "source": [
    "# A telling example of the algorithm not picking up on slang. The lexicon classifies 'dope' as a negative word\n",
    "# but here it is used in a positive context. Interestingly enough, there is a little negative sentiment in here\n",
    "# as the user refers to a party that was poorly attended. So, the fact that it has a negative rating works in this case.\n",
    "# Maybe the negative rating shouldn't be so strong though. \n",
    "\n",
    "print forumsdata['body'][185]\n",
    "print forumsdata['sent_rating'][185]"
   ]
  },
  {
   "cell_type": "markdown",
   "metadata": {},
   "source": [
    "### Sentiment rating may be an important feature for classifier models down the road."
   ]
  },
  {
   "cell_type": "code",
   "execution_count": 46,
   "metadata": {
    "collapsed": false
   },
   "outputs": [
    {
     "data": {
      "text/plain": [
       "27.88881948782011"
      ]
     },
     "execution_count": 46,
     "metadata": {},
     "output_type": "execute_result"
    }
   ],
   "source": [
    "# Percent of posts in closed threads with negative sentiments\n",
    "len(forumsdata[(forumsdata['closed']==1)&(forumsdata['sent_rating']<0)])/float(len(forumsdata[forumsdata['closed']==1]))*100"
   ]
  },
  {
   "cell_type": "code",
   "execution_count": 47,
   "metadata": {
    "collapsed": false
   },
   "outputs": [
    {
     "data": {
      "text/plain": [
       "19.05388543288247"
      ]
     },
     "execution_count": 47,
     "metadata": {},
     "output_type": "execute_result"
    }
   ],
   "source": [
    "# Percent of posts in open threads with negative sentiments\n",
    "len(forumsdata[(forumsdata['closed']==0)&(forumsdata['sent_rating']<0)])/float(len(forumsdata[forumsdata['closed']==0]))*100"
   ]
  },
  {
   "cell_type": "code",
   "execution_count": 48,
   "metadata": {
    "collapsed": false
   },
   "outputs": [],
   "source": [
    "# Creating a sentiment feature for our aggregate DataFrame\n",
    "\n",
    "threaddf['thread_sent'] = list(forumsdata.groupby('subject').mean()['sent_rating'])"
   ]
  },
  {
   "cell_type": "code",
   "execution_count": 49,
   "metadata": {
    "collapsed": false
   },
   "outputs": [
    {
     "data": {
      "text/html": [
       "<div>\n",
       "<table border=\"1\" class=\"dataframe\">\n",
       "  <thead>\n",
       "    <tr style=\"text-align: right;\">\n",
       "      <th></th>\n",
       "      <th>subject</th>\n",
       "      <th>forum_id</th>\n",
       "      <th>timelength</th>\n",
       "      <th>threadlength</th>\n",
       "      <th>post_per_sec</th>\n",
       "      <th>most_common_user</th>\n",
       "      <th>closed</th>\n",
       "      <th>thread_sent</th>\n",
       "    </tr>\n",
       "  </thead>\n",
       "  <tbody>\n",
       "    <tr>\n",
       "      <th>0</th>\n",
       "      <td>\\r\\n Auto Loan Calculators\\r\\n</td>\n",
       "      <td>1</td>\n",
       "      <td>00:00:01</td>\n",
       "      <td>1</td>\n",
       "      <td>1.0</td>\n",
       "      <td>unmatagak</td>\n",
       "      <td>0</td>\n",
       "      <td>-1.0</td>\n",
       "    </tr>\n",
       "    <tr>\n",
       "      <th>1</th>\n",
       "      <td>\\r\\nChase &amp; Status - The Breezeblock Mix 12/20...</td>\n",
       "      <td>125</td>\n",
       "      <td>00:00:01</td>\n",
       "      <td>1</td>\n",
       "      <td>1.0</td>\n",
       "      <td>myfb</td>\n",
       "      <td>0</td>\n",
       "      <td>1.0</td>\n",
       "    </tr>\n",
       "    <tr>\n",
       "      <th>2</th>\n",
       "      <td>\\r\\nCompaq Netbook Best Buy\\r\\n</td>\n",
       "      <td>1</td>\n",
       "      <td>00:00:01</td>\n",
       "      <td>1</td>\n",
       "      <td>1.0</td>\n",
       "      <td>mefemismmaf</td>\n",
       "      <td>0</td>\n",
       "      <td>1.5</td>\n",
       "    </tr>\n",
       "    <tr>\n",
       "      <th>3</th>\n",
       "      <td>\\r\\nFree Agent- Calibre Mix</td>\n",
       "      <td>125</td>\n",
       "      <td>00:00:01</td>\n",
       "      <td>1</td>\n",
       "      <td>1.0</td>\n",
       "      <td>myfb</td>\n",
       "      <td>0</td>\n",
       "      <td>0.0</td>\n",
       "    </tr>\n",
       "    <tr>\n",
       "      <th>4</th>\n",
       "      <td>\\r\\nLoxy &amp; Ink- The Horseman Apocalypse\\r\\n</td>\n",
       "      <td>125</td>\n",
       "      <td>00:00:01</td>\n",
       "      <td>1</td>\n",
       "      <td>1.0</td>\n",
       "      <td>myfb</td>\n",
       "      <td>0</td>\n",
       "      <td>0.0</td>\n",
       "    </tr>\n",
       "  </tbody>\n",
       "</table>\n",
       "</div>"
      ],
      "text/plain": [
       "                                             subject  forum_id  timelength  \\\n",
       "0                     \\r\\n Auto Loan Calculators\\r\\n         1    00:00:01   \n",
       "1  \\r\\nChase & Status - The Breezeblock Mix 12/20...       125    00:00:01   \n",
       "2                    \\r\\nCompaq Netbook Best Buy\\r\\n         1    00:00:01   \n",
       "3                        \\r\\nFree Agent- Calibre Mix       125    00:00:01   \n",
       "4        \\r\\nLoxy & Ink- The Horseman Apocalypse\\r\\n       125    00:00:01   \n",
       "\n",
       "   threadlength  post_per_sec most_common_user  closed  thread_sent  \n",
       "0             1           1.0        unmatagak       0         -1.0  \n",
       "1             1           1.0             myfb       0          1.0  \n",
       "2             1           1.0      mefemismmaf       0          1.5  \n",
       "3             1           1.0             myfb       0          0.0  \n",
       "4             1           1.0             myfb       0          0.0  "
      ]
     },
     "execution_count": 49,
     "metadata": {},
     "output_type": "execute_result"
    }
   ],
   "source": [
    "threaddf.head()"
   ]
  },
  {
   "cell_type": "code",
   "execution_count": 50,
   "metadata": {
    "collapsed": false
   },
   "outputs": [
    {
     "data": {
      "text/html": [
       "<div>\n",
       "<table border=\"1\" class=\"dataframe\">\n",
       "  <thead>\n",
       "    <tr style=\"text-align: right;\">\n",
       "      <th></th>\n",
       "      <th></th>\n",
       "      <th>forum_id</th>\n",
       "      <th>post_per_sec</th>\n",
       "      <th>thread_sent</th>\n",
       "      <th>threadlength</th>\n",
       "      <th>timelength</th>\n",
       "    </tr>\n",
       "    <tr>\n",
       "      <th>closed</th>\n",
       "      <th></th>\n",
       "      <th></th>\n",
       "      <th></th>\n",
       "      <th></th>\n",
       "      <th></th>\n",
       "      <th></th>\n",
       "    </tr>\n",
       "  </thead>\n",
       "  <tbody>\n",
       "    <tr>\n",
       "      <th rowspan=\"8\" valign=\"top\">0</th>\n",
       "      <th>count</th>\n",
       "      <td>88416.000000</td>\n",
       "      <td>8.841600e+04</td>\n",
       "      <td>88416.000000</td>\n",
       "      <td>88416.000000</td>\n",
       "      <td>88416</td>\n",
       "    </tr>\n",
       "    <tr>\n",
       "      <th>mean</th>\n",
       "      <td>26.289043</td>\n",
       "      <td>3.399950e-01</td>\n",
       "      <td>0.201293</td>\n",
       "      <td>7.468829</td>\n",
       "      <td>17 days 04:29:01.604166</td>\n",
       "    </tr>\n",
       "    <tr>\n",
       "      <th>std</th>\n",
       "      <td>42.394398</td>\n",
       "      <td>4.949531e-01</td>\n",
       "      <td>1.037547</td>\n",
       "      <td>14.323712</td>\n",
       "      <td>141 days 04:31:35.272328</td>\n",
       "    </tr>\n",
       "    <tr>\n",
       "      <th>min</th>\n",
       "      <td>1.000000</td>\n",
       "      <td>4.410208e-09</td>\n",
       "      <td>-35.500000</td>\n",
       "      <td>1.000000</td>\n",
       "      <td>0 days 00:00:01</td>\n",
       "    </tr>\n",
       "    <tr>\n",
       "      <th>25%</th>\n",
       "      <td>1.000000</td>\n",
       "      <td>2.702589e-05</td>\n",
       "      <td>0.000000</td>\n",
       "      <td>1.000000</td>\n",
       "      <td>0 days 00:00:01</td>\n",
       "    </tr>\n",
       "    <tr>\n",
       "      <th>50%</th>\n",
       "      <td>2.000000</td>\n",
       "      <td>2.023461e-04</td>\n",
       "      <td>0.052632</td>\n",
       "      <td>3.000000</td>\n",
       "      <td>0 days 07:45:07</td>\n",
       "    </tr>\n",
       "    <tr>\n",
       "      <th>75%</th>\n",
       "      <td>40.000000</td>\n",
       "      <td>1.000000e+00</td>\n",
       "      <td>0.375000</td>\n",
       "      <td>8.000000</td>\n",
       "      <td>3 days 15:09:15.250000</td>\n",
       "    </tr>\n",
       "    <tr>\n",
       "      <th>max</th>\n",
       "      <td>137.000000</td>\n",
       "      <td>3.000000e+00</td>\n",
       "      <td>38.000000</td>\n",
       "      <td>2156.000000</td>\n",
       "      <td>5248 days 18:22:15</td>\n",
       "    </tr>\n",
       "    <tr>\n",
       "      <th rowspan=\"8\" valign=\"top\">1</th>\n",
       "      <th>count</th>\n",
       "      <td>196.000000</td>\n",
       "      <td>1.960000e+02</td>\n",
       "      <td>196.000000</td>\n",
       "      <td>196.000000</td>\n",
       "      <td>196</td>\n",
       "    </tr>\n",
       "    <tr>\n",
       "      <th>mean</th>\n",
       "      <td>10.862245</td>\n",
       "      <td>2.616283e-01</td>\n",
       "      <td>0.013563</td>\n",
       "      <td>16.336735</td>\n",
       "      <td>25 days 01:53:47.061224</td>\n",
       "    </tr>\n",
       "    <tr>\n",
       "      <th>std</th>\n",
       "      <td>32.629331</td>\n",
       "      <td>4.390388e-01</td>\n",
       "      <td>0.787246</td>\n",
       "      <td>30.361394</td>\n",
       "      <td>194 days 23:59:01.827713</td>\n",
       "    </tr>\n",
       "    <tr>\n",
       "      <th>min</th>\n",
       "      <td>1.000000</td>\n",
       "      <td>1.606198e-07</td>\n",
       "      <td>-2.250000</td>\n",
       "      <td>1.000000</td>\n",
       "      <td>0 days 00:00:01</td>\n",
       "    </tr>\n",
       "    <tr>\n",
       "      <th>25%</th>\n",
       "      <td>1.000000</td>\n",
       "      <td>1.132214e-04</td>\n",
       "      <td>-0.267045</td>\n",
       "      <td>1.000000</td>\n",
       "      <td>0 days 00:00:01</td>\n",
       "    </tr>\n",
       "    <tr>\n",
       "      <th>50%</th>\n",
       "      <td>1.000000</td>\n",
       "      <td>8.214339e-04</td>\n",
       "      <td>0.000000</td>\n",
       "      <td>7.000000</td>\n",
       "      <td>0 days 03:22:40.500000</td>\n",
       "    </tr>\n",
       "    <tr>\n",
       "      <th>75%</th>\n",
       "      <td>2.000000</td>\n",
       "      <td>1.000000e+00</td>\n",
       "      <td>0.125000</td>\n",
       "      <td>18.000000</td>\n",
       "      <td>1 days 02:19:56.500000</td>\n",
       "    </tr>\n",
       "    <tr>\n",
       "      <th>max</th>\n",
       "      <td>137.000000</td>\n",
       "      <td>1.000000e+00</td>\n",
       "      <td>5.000000</td>\n",
       "      <td>254.000000</td>\n",
       "      <td>2522 days 01:23:54</td>\n",
       "    </tr>\n",
       "  </tbody>\n",
       "</table>\n",
       "</div>"
      ],
      "text/plain": [
       "                  forum_id  post_per_sec   thread_sent  threadlength  \\\n",
       "closed                                                                 \n",
       "0      count  88416.000000  8.841600e+04  88416.000000  88416.000000   \n",
       "       mean      26.289043  3.399950e-01      0.201293      7.468829   \n",
       "       std       42.394398  4.949531e-01      1.037547     14.323712   \n",
       "       min        1.000000  4.410208e-09    -35.500000      1.000000   \n",
       "       25%        1.000000  2.702589e-05      0.000000      1.000000   \n",
       "       50%        2.000000  2.023461e-04      0.052632      3.000000   \n",
       "       75%       40.000000  1.000000e+00      0.375000      8.000000   \n",
       "       max      137.000000  3.000000e+00     38.000000   2156.000000   \n",
       "1      count    196.000000  1.960000e+02    196.000000    196.000000   \n",
       "       mean      10.862245  2.616283e-01      0.013563     16.336735   \n",
       "       std       32.629331  4.390388e-01      0.787246     30.361394   \n",
       "       min        1.000000  1.606198e-07     -2.250000      1.000000   \n",
       "       25%        1.000000  1.132214e-04     -0.267045      1.000000   \n",
       "       50%        1.000000  8.214339e-04      0.000000      7.000000   \n",
       "       75%        2.000000  1.000000e+00      0.125000     18.000000   \n",
       "       max      137.000000  1.000000e+00      5.000000    254.000000   \n",
       "\n",
       "                            timelength  \n",
       "closed                                  \n",
       "0      count                     88416  \n",
       "       mean    17 days 04:29:01.604166  \n",
       "       std    141 days 04:31:35.272328  \n",
       "       min             0 days 00:00:01  \n",
       "       25%             0 days 00:00:01  \n",
       "       50%             0 days 07:45:07  \n",
       "       75%      3 days 15:09:15.250000  \n",
       "       max          5248 days 18:22:15  \n",
       "1      count                       196  \n",
       "       mean    25 days 01:53:47.061224  \n",
       "       std    194 days 23:59:01.827713  \n",
       "       min             0 days 00:00:01  \n",
       "       25%             0 days 00:00:01  \n",
       "       50%      0 days 03:22:40.500000  \n",
       "       75%      1 days 02:19:56.500000  \n",
       "       max          2522 days 01:23:54  "
      ]
     },
     "execution_count": 50,
     "metadata": {},
     "output_type": "execute_result"
    }
   ],
   "source": [
    "threaddf.groupby('closed').describe()"
   ]
  },
  {
   "cell_type": "markdown",
   "metadata": {},
   "source": [
    "# Data Visualizations for Separate Features of threaddf vs. Closed"
   ]
  },
  {
   "cell_type": "code",
   "execution_count": 51,
   "metadata": {
    "collapsed": false
   },
   "outputs": [
    {
     "data": {
      "text/plain": [
       "<matplotlib.text.Text at 0x1298abb90>"
      ]
     },
     "execution_count": 51,
     "metadata": {},
     "output_type": "execute_result"
    },
    {
     "data": {
      "image/png": "[encoded data removed]",
      "text/plain": [
       "<matplotlib.figure.Figure at 0x1440afd90>"
      ]
     },
     "metadata": {},
     "output_type": "display_data"
    }
   ],
   "source": [
    "plt.scatter(threaddf['thread_sent'],threaddf['closed'])\n",
    "plt.xlabel('Thread Sentiment')\n",
    "plt.ylabel('0=Open, 1=Closed')\n",
    "plt.title('Thread Sentiment vs. Closed/Open')"
   ]
  },
  {
   "cell_type": "code",
   "execution_count": 52,
   "metadata": {
    "collapsed": false
   },
   "outputs": [
    {
     "data": {
      "text/plain": [
       "<matplotlib.text.Text at 0x124fab4d0>"
      ]
     },
     "execution_count": 52,
     "metadata": {},
     "output_type": "execute_result"
    },
    {
     "data": {
      "image/png": "[encoded data removed]",
      "text/plain": [
       "<matplotlib.figure.Figure at 0x1090dcbd0>"
      ]
     },
     "metadata": {},
     "output_type": "display_data"
    }
   ],
   "source": [
    "plt.hist(threaddf[threaddf['closed']==1]['threadlength'], \n",
    "         bins = 20, weights= np.zeros_like(threaddf[threaddf['closed']==1]['threadlength'])\n",
    "         +100.0/threaddf[threaddf['closed']==1]['threadlength'].size)\n",
    "\n",
    "plt.xlabel('Threadlength (Closed Threads)')\n",
    "plt.ylabel('Percent')\n",
    "plt.ylim((0,100))\n",
    "plt.title('Percent Distribution of Threadlength For Closed Threads')"
   ]
  },
  {
   "cell_type": "code",
   "execution_count": 53,
   "metadata": {
    "collapsed": false
   },
   "outputs": [
    {
     "data": {
      "text/plain": [
       "<matplotlib.text.Text at 0x12d6572d0>"
      ]
     },
     "execution_count": 53,
     "metadata": {},
     "output_type": "execute_result"
    },
    {
     "data": {
      "image/png": "[encoded data removed]",
      "text/plain": [
       "<matplotlib.figure.Figure at 0x1318aa8d0>"
      ]
     },
     "metadata": {},
     "output_type": "display_data"
    }
   ],
   "source": [
    "\n",
    "plt.hist(threaddf[threaddf['closed']==0]['threadlength'], range = (0,300), \n",
    "         bins = 20, weights= np.zeros_like(threaddf[threaddf['closed']==0]['threadlength'])\n",
    "         +100.0/threaddf[threaddf['closed']==0]['threadlength'].size)\n",
    "\n",
    "plt.xlabel('Threadlength (Open Threads)')\n",
    "plt.ylabel('Percent')\n",
    "plt.ylim((0,100))\n",
    "plt.title('Percent Distribution of Threadlength For Open Threads')"
   ]
  },
  {
   "cell_type": "code",
   "execution_count": 54,
   "metadata": {
    "collapsed": false
   },
   "outputs": [
    {
     "data": {
      "text/plain": [
       "<matplotlib.text.Text at 0x13d21dc90>"
      ]
     },
     "execution_count": 54,
     "metadata": {},
     "output_type": "execute_result"
    },
    {
     "data": {
      "image/png": "[encoded data removed]",
      "text/plain": [
       "<matplotlib.figure.Figure at 0x1283db510>"
      ]
     },
     "metadata": {},
     "output_type": "display_data"
    }
   ],
   "source": [
    "threadtime = threaddf[threaddf['closed']==1]['timelength'].apply(lambda x: x.total_seconds())\n",
    "\n",
    "plt.hist(threadtime, range = (0,500000), weights= np.zeros_like(threadtime)+100.0/threadtime.size)\n",
    "\n",
    "plt.xlabel('Seconds (Closed Threads)')\n",
    "plt.ylabel('Percent')\n",
    "plt.ylim((0,100))\n",
    "plt.title('Percent Distribution of Timelength For Closed Threads')"
   ]
  },
  {
   "cell_type": "code",
   "execution_count": 55,
   "metadata": {
    "collapsed": false
   },
   "outputs": [
    {
     "data": {
      "text/plain": [
       "<matplotlib.text.Text at 0x146220690>"
      ]
     },
     "execution_count": 55,
     "metadata": {},
     "output_type": "execute_result"
    },
    {
     "data": {
      "image/png": "[encoded data removed]",
      "text/plain": [
       "<matplotlib.figure.Figure at 0x131886c10>"
      ]
     },
     "metadata": {},
     "output_type": "display_data"
    }
   ],
   "source": [
    "threadtime = threaddf[threaddf['closed']==0]['timelength'].apply(lambda x: x.total_seconds())\n",
    "\n",
    "plt.hist(threadtime, range = (0,500000), weights= np.zeros_like(threadtime)+100.0/threadtime.size)\n",
    "\n",
    "plt.xlabel('Seconds (Open Threads)')\n",
    "plt.ylabel('Percent')\n",
    "plt.ylim((0,100))\n",
    "plt.title('Percent Distribution of Timelength For Open Threads')"
   ]
  },
  {
   "cell_type": "code",
   "execution_count": 56,
   "metadata": {
    "collapsed": false
   },
   "outputs": [
    {
     "name": "stderr",
     "output_type": "stream",
     "text": [
      "/Users/Devoe/anaconda2/lib/python2.7/site-packages/ipykernel/__main__.py:1: FutureWarning: sort(columns=....) is deprecated, use sort_values(by=.....)\n",
      "  if __name__ == '__main__':\n"
     ]
    },
    {
     "data": {
      "text/plain": [
       "<matplotlib.text.Text at 0x12beb7c90>"
      ]
     },
     "execution_count": 56,
     "metadata": {},
     "output_type": "execute_result"
    },
    {
     "data": {
      "image/png": "[encoded data removed]",
      "text/plain": [
       "<matplotlib.figure.Figure at 0x12c108d10>"
      ]
     },
     "metadata": {},
     "output_type": "display_data"
    }
   ],
   "source": [
    "forum_id_closed = threaddf[threaddf['closed']==1].sort('forum_id')['forum_id']\n",
    "forum_id_closed_prct = forum_id_closed.value_counts()/forum_id_closed.value_counts().sum()*100\n",
    "\n",
    "plt.bar(forum_id_closed.unique(), forum_id_closed_prct)\n",
    "\n",
    "plt.xlabel('Forum ID')\n",
    "plt.xlim((0,137))\n",
    "plt.ylabel('Percent')\n",
    "plt.ylim((0,100))\n",
    "plt.title('Distribution of Forum IDs For Closed Threads')"
   ]
  },
  {
   "cell_type": "code",
   "execution_count": 57,
   "metadata": {
    "collapsed": false
   },
   "outputs": [
    {
     "name": "stderr",
     "output_type": "stream",
     "text": [
      "/Users/Devoe/anaconda2/lib/python2.7/site-packages/ipykernel/__main__.py:1: FutureWarning: sort(columns=....) is deprecated, use sort_values(by=.....)\n",
      "  if __name__ == '__main__':\n"
     ]
    },
    {
     "data": {
      "text/plain": [
       "<matplotlib.text.Text at 0x128bce650>"
      ]
     },
     "execution_count": 57,
     "metadata": {},
     "output_type": "execute_result"
    },
    {
     "data": {
      "image/png": "[encoded data removed]",
      "text/plain": [
       "<matplotlib.figure.Figure at 0x12d6d6f90>"
      ]
     },
     "metadata": {},
     "output_type": "display_data"
    }
   ],
   "source": [
    "forum_id_open = threaddf[threaddf['closed']==0].sort('forum_id')['forum_id']\n",
    "forum_id_open_prct = forum_id_open.value_counts()/forum_id_open.value_counts().sum()*100\n",
    "\n",
    "plt.bar(forum_id_open.unique(), forum_id_open_prct)\n",
    "\n",
    "plt.xlabel('Forum ID')\n",
    "plt.xlim((0,137))\n",
    "plt.ylabel('Percent')\n",
    "plt.ylim((0,100))\n",
    "plt.title('Distribution of Forum IDs For Open Threads')"
   ]
  },
  {
   "cell_type": "code",
   "execution_count": 58,
   "metadata": {
    "collapsed": false
   },
   "outputs": [
    {
     "data": {
      "text/plain": [
       "49.48979591836735"
      ]
     },
     "execution_count": 58,
     "metadata": {},
     "output_type": "execute_result"
    }
   ],
   "source": [
    "# Percent of threads that were closed with a negative sentiment rating\n",
    "\n",
    "len(threaddf[(threaddf['closed']==1)&(threaddf['thread_sent']<0)])/float(len(threaddf[threaddf['closed']==1]))*100"
   ]
  },
  {
   "cell_type": "code",
   "execution_count": 59,
   "metadata": {
    "collapsed": false
   },
   "outputs": [
    {
     "data": {
      "text/plain": [
       "22.82844733984799"
      ]
     },
     "execution_count": 59,
     "metadata": {},
     "output_type": "execute_result"
    }
   ],
   "source": [
    "# Percent of threads that were open with a negative sentiment rating\n",
    "\n",
    "len(threaddf[(threaddf['closed']==0)&(threaddf['thread_sent']<0)])/float(len(threaddf[threaddf['closed']==0]))*100"
   ]
  },
  {
   "cell_type": "markdown",
   "metadata": {},
   "source": [
    "# Modeling"
   ]
  },
  {
   "cell_type": "code",
   "execution_count": 60,
   "metadata": {
    "collapsed": false
   },
   "outputs": [
    {
     "data": {
      "text/plain": [
       "subject             196\n",
       "forum_id            196\n",
       "timelength          196\n",
       "threadlength        196\n",
       "post_per_sec        196\n",
       "most_common_user    196\n",
       "closed              196\n",
       "thread_sent         196\n",
       "dtype: int64"
      ]
     },
     "execution_count": 60,
     "metadata": {},
     "output_type": "execute_result"
    }
   ],
   "source": [
    "# Closed thread counts\n",
    "\n",
    "threaddf[threaddf['closed']==1].count()"
   ]
  },
  {
   "cell_type": "code",
   "execution_count": 61,
   "metadata": {
    "collapsed": false
   },
   "outputs": [
    {
     "data": {
      "text/plain": [
       "subject             88416\n",
       "forum_id            88416\n",
       "timelength          88416\n",
       "threadlength        88416\n",
       "post_per_sec        88416\n",
       "most_common_user    88416\n",
       "closed              88416\n",
       "thread_sent         88416\n",
       "dtype: int64"
      ]
     },
     "execution_count": 61,
     "metadata": {},
     "output_type": "execute_result"
    }
   ],
   "source": [
    "# Open thread counts\n",
    "\n",
    "threaddf[threaddf['closed']==0].count()"
   ]
  },
  {
   "cell_type": "code",
   "execution_count": 62,
   "metadata": {
    "collapsed": false
   },
   "outputs": [
    {
     "data": {
      "text/plain": [
       "1      32.258867\n",
       "2      28.406623\n",
       "40      7.940870\n",
       "30      5.860930\n",
       "9       5.133686\n",
       "125     3.883912\n",
       "122     3.774204\n",
       "63      3.184944\n",
       "130     3.164586\n",
       "25      2.728013\n",
       "137     2.288047\n",
       "44      1.375317\n",
       "Name: forum_id, dtype: float64"
      ]
     },
     "execution_count": 62,
     "metadata": {},
     "output_type": "execute_result"
    }
   ],
   "source": [
    "# Percent distribution of posts in forums among Open threads. (forum_id is on the left)\n",
    "\n",
    "forum_id_open_prct"
   ]
  },
  {
   "cell_type": "code",
   "execution_count": 64,
   "metadata": {
    "collapsed": false
   },
   "outputs": [
    {
     "data": {
      "text/plain": [
       "subject             16\n",
       "forum_id            16\n",
       "timelength          16\n",
       "threadlength        16\n",
       "post_per_sec        16\n",
       "most_common_user    16\n",
       "closed              16\n",
       "thread_sent         16\n",
       "dtype: int64"
      ]
     },
     "execution_count": 64,
     "metadata": {},
     "output_type": "execute_result"
    }
   ],
   "source": [
    "# We have a huge class imbalance, so we need to sample from the Open threads so we \n",
    "# at least balance our classes out. Not only that, but so that our sample matches its population,\n",
    "# we need to take a probability sample of the open threads, so that our sample has the same \n",
    "# post distribution among the forums as the population. \n",
    "\n",
    "fid_sample_n = {'1.0':64, '2.0':56, '40.0':16, '30.0':12, '9.0':10, '125.0':8, '122.0':8, '63.0':6, '130.0':6, \n",
    "                '25.0':6, '137.0':4, '44.0':4}\n",
    "open_thread_sample = pd.DataFrame()\n",
    "\n",
    "for fid, num in fid_sample_n.iteritems():\n",
    "    open_thread_sample = open_thread_sample.append(threaddf[threaddf['forum_id']==float(fid)].sample(n=num, random_state = 9))\n",
    "\n",
    "open_thread_sample[open_thread_sample['forum_id']==40.0].count()"
   ]
  },
  {
   "cell_type": "code",
   "execution_count": 65,
   "metadata": {
    "collapsed": false
   },
   "outputs": [
    {
     "data": {
      "text/plain": [
       "subject             200\n",
       "forum_id            200\n",
       "timelength          200\n",
       "threadlength        200\n",
       "post_per_sec        200\n",
       "most_common_user    200\n",
       "closed              200\n",
       "thread_sent         200\n",
       "dtype: int64"
      ]
     },
     "execution_count": 65,
     "metadata": {},
     "output_type": "execute_result"
    }
   ],
   "source": [
    "# Combine the open thread prob sample with all the closed thread data. We should have 200 if all worked well.\n",
    "\n",
    "threaddf_sample = threaddf.drop(threaddf[threaddf['closed']==0].index).append(open_thread_sample)\n",
    "threaddf_sample[threaddf_sample['closed']==0].count()"
   ]
  },
  {
   "cell_type": "code",
   "execution_count": 66,
   "metadata": {
    "collapsed": false
   },
   "outputs": [
    {
     "data": {
      "text/html": [
       "<div>\n",
       "<table border=\"1\" class=\"dataframe\">\n",
       "  <thead>\n",
       "    <tr style=\"text-align: right;\">\n",
       "      <th></th>\n",
       "      <th>subject</th>\n",
       "      <th>forum_id</th>\n",
       "      <th>timelength</th>\n",
       "      <th>threadlength</th>\n",
       "      <th>post_per_sec</th>\n",
       "      <th>most_common_user</th>\n",
       "      <th>closed</th>\n",
       "      <th>thread_sent</th>\n",
       "    </tr>\n",
       "  </thead>\n",
       "  <tbody>\n",
       "    <tr>\n",
       "      <th>0</th>\n",
       "      <td>\\r\\n Auto Loan Calculators\\r\\n</td>\n",
       "      <td>1</td>\n",
       "      <td>00:00:01</td>\n",
       "      <td>1</td>\n",
       "      <td>1.0</td>\n",
       "      <td>unmatagak</td>\n",
       "      <td>0</td>\n",
       "      <td>-1.0</td>\n",
       "    </tr>\n",
       "    <tr>\n",
       "      <th>1</th>\n",
       "      <td>\\r\\nChase &amp; Status - The Breezeblock Mix 12/20...</td>\n",
       "      <td>125</td>\n",
       "      <td>00:00:01</td>\n",
       "      <td>1</td>\n",
       "      <td>1.0</td>\n",
       "      <td>myfb</td>\n",
       "      <td>0</td>\n",
       "      <td>1.0</td>\n",
       "    </tr>\n",
       "    <tr>\n",
       "      <th>2</th>\n",
       "      <td>\\r\\nCompaq Netbook Best Buy\\r\\n</td>\n",
       "      <td>1</td>\n",
       "      <td>00:00:01</td>\n",
       "      <td>1</td>\n",
       "      <td>1.0</td>\n",
       "      <td>mefemismmaf</td>\n",
       "      <td>0</td>\n",
       "      <td>1.5</td>\n",
       "    </tr>\n",
       "    <tr>\n",
       "      <th>3</th>\n",
       "      <td>\\r\\nFree Agent- Calibre Mix</td>\n",
       "      <td>125</td>\n",
       "      <td>00:00:01</td>\n",
       "      <td>1</td>\n",
       "      <td>1.0</td>\n",
       "      <td>myfb</td>\n",
       "      <td>0</td>\n",
       "      <td>0.0</td>\n",
       "    </tr>\n",
       "    <tr>\n",
       "      <th>4</th>\n",
       "      <td>\\r\\nLoxy &amp; Ink- The Horseman Apocalypse\\r\\n</td>\n",
       "      <td>125</td>\n",
       "      <td>00:00:01</td>\n",
       "      <td>1</td>\n",
       "      <td>1.0</td>\n",
       "      <td>myfb</td>\n",
       "      <td>0</td>\n",
       "      <td>0.0</td>\n",
       "    </tr>\n",
       "  </tbody>\n",
       "</table>\n",
       "</div>"
      ],
      "text/plain": [
       "                                             subject  forum_id  timelength  \\\n",
       "0                     \\r\\n Auto Loan Calculators\\r\\n         1    00:00:01   \n",
       "1  \\r\\nChase & Status - The Breezeblock Mix 12/20...       125    00:00:01   \n",
       "2                    \\r\\nCompaq Netbook Best Buy\\r\\n         1    00:00:01   \n",
       "3                        \\r\\nFree Agent- Calibre Mix       125    00:00:01   \n",
       "4        \\r\\nLoxy & Ink- The Horseman Apocalypse\\r\\n       125    00:00:01   \n",
       "\n",
       "   threadlength  post_per_sec most_common_user  closed  thread_sent  \n",
       "0             1           1.0        unmatagak       0         -1.0  \n",
       "1             1           1.0             myfb       0          1.0  \n",
       "2             1           1.0      mefemismmaf       0          1.5  \n",
       "3             1           1.0             myfb       0          0.0  \n",
       "4             1           1.0             myfb       0          0.0  "
      ]
     },
     "execution_count": 66,
     "metadata": {},
     "output_type": "execute_result"
    }
   ],
   "source": [
    "threaddf.head()"
   ]
  },
  {
   "cell_type": "code",
   "execution_count": 67,
   "metadata": {
    "collapsed": false
   },
   "outputs": [
    {
     "data": {
      "text/html": [
       "<div>\n",
       "<table border=\"1\" class=\"dataframe\">\n",
       "  <thead>\n",
       "    <tr style=\"text-align: right;\">\n",
       "      <th></th>\n",
       "      <th>subject</th>\n",
       "      <th>forum_id</th>\n",
       "      <th>timelength</th>\n",
       "      <th>threadlength</th>\n",
       "      <th>post_per_sec</th>\n",
       "      <th>most_common_user</th>\n",
       "      <th>closed</th>\n",
       "      <th>thread_sent</th>\n",
       "    </tr>\n",
       "  </thead>\n",
       "  <tbody>\n",
       "    <tr>\n",
       "      <th>307</th>\n",
       "      <td>ATTENTION: ‘Give’ (Nick) assaulted his ex-gir...</td>\n",
       "      <td>1</td>\n",
       "      <td>95221</td>\n",
       "      <td>63</td>\n",
       "      <td>0.000662</td>\n",
       "      <td>4_.phrantek._4</td>\n",
       "      <td>1</td>\n",
       "      <td>-0.563492</td>\n",
       "    </tr>\n",
       "    <tr>\n",
       "      <th>308</th>\n",
       "      <td>ATTENTION: ‘Give’ (Nick) assaulted his ex-gir...</td>\n",
       "      <td>1</td>\n",
       "      <td>2878</td>\n",
       "      <td>3</td>\n",
       "      <td>0.001042</td>\n",
       "      <td>jos</td>\n",
       "      <td>1</td>\n",
       "      <td>0.333333</td>\n",
       "    </tr>\n",
       "    <tr>\n",
       "      <th>410</th>\n",
       "      <td>DJ/ MC battle  who wants to see one?</td>\n",
       "      <td>2</td>\n",
       "      <td>2807</td>\n",
       "      <td>21</td>\n",
       "      <td>0.007481</td>\n",
       "      <td>phish78</td>\n",
       "      <td>1</td>\n",
       "      <td>-0.190476</td>\n",
       "    </tr>\n",
       "    <tr>\n",
       "      <th>450</th>\n",
       "      <td>FAKE ASS WEB DESIGNER's FINAL PLEA www.digita...</td>\n",
       "      <td>1</td>\n",
       "      <td>1922888</td>\n",
       "      <td>17</td>\n",
       "      <td>0.000009</td>\n",
       "      <td>ghetto_dave</td>\n",
       "      <td>1</td>\n",
       "      <td>0.117647</td>\n",
       "    </tr>\n",
       "    <tr>\n",
       "      <th>451</th>\n",
       "      <td>FAKE ASS WEB DESIGNER's FINAL PLEA www.digita...</td>\n",
       "      <td>1</td>\n",
       "      <td>1</td>\n",
       "      <td>1</td>\n",
       "      <td>1.000000</td>\n",
       "      <td>outsource</td>\n",
       "      <td>1</td>\n",
       "      <td>-1.000000</td>\n",
       "    </tr>\n",
       "  </tbody>\n",
       "</table>\n",
       "</div>"
      ],
      "text/plain": [
       "                                               subject  forum_id  timelength  \\\n",
       "307   ATTENTION: ‘Give’ (Nick) assaulted his ex-gir...         1       95221   \n",
       "308   ATTENTION: ‘Give’ (Nick) assaulted his ex-gir...         1        2878   \n",
       "410               DJ/ MC battle  who wants to see one?         2        2807   \n",
       "450   FAKE ASS WEB DESIGNER's FINAL PLEA www.digita...         1     1922888   \n",
       "451   FAKE ASS WEB DESIGNER's FINAL PLEA www.digita...         1           1   \n",
       "\n",
       "     threadlength  post_per_sec most_common_user  closed  thread_sent  \n",
       "307            63      0.000662   4_.phrantek._4       1    -0.563492  \n",
       "308             3      0.001042              jos       1     0.333333  \n",
       "410            21      0.007481          phish78       1    -0.190476  \n",
       "450            17      0.000009      ghetto_dave       1     0.117647  \n",
       "451             1      1.000000        outsource       1    -1.000000  "
      ]
     },
     "execution_count": 67,
     "metadata": {},
     "output_type": "execute_result"
    }
   ],
   "source": [
    "#Convert timelength to integer seconds\n",
    "\n",
    "threaddf_sample['timelength'] = threaddf_sample['timelength'].astype('timedelta64[s]').astype(int)\n",
    "threaddf_sample.head()"
   ]
  },
  {
   "cell_type": "code",
   "execution_count": 71,
   "metadata": {
    "collapsed": false
   },
   "outputs": [],
   "source": [
    "# Create independent, dependent variables\n",
    "\n",
    "X = threaddf_sample.drop(['closed', 'most_common_user', 'subject', 'forum_id'], axis = 1).reset_index()\n",
    "y = threaddf_sample.closed.reset_index()"
   ]
  },
  {
   "cell_type": "code",
   "execution_count": 72,
   "metadata": {
    "collapsed": false
   },
   "outputs": [
    {
     "data": {
      "text/html": [
       "<div>\n",
       "<table border=\"1\" class=\"dataframe\">\n",
       "  <thead>\n",
       "    <tr style=\"text-align: right;\">\n",
       "      <th></th>\n",
       "      <th>timelength</th>\n",
       "      <th>threadlength</th>\n",
       "      <th>post_per_sec</th>\n",
       "      <th>thread_sent</th>\n",
       "    </tr>\n",
       "  </thead>\n",
       "  <tbody>\n",
       "    <tr>\n",
       "      <th>0</th>\n",
       "      <td>95221</td>\n",
       "      <td>63</td>\n",
       "      <td>0.000662</td>\n",
       "      <td>-0.563492</td>\n",
       "    </tr>\n",
       "    <tr>\n",
       "      <th>1</th>\n",
       "      <td>2878</td>\n",
       "      <td>3</td>\n",
       "      <td>0.001042</td>\n",
       "      <td>0.333333</td>\n",
       "    </tr>\n",
       "    <tr>\n",
       "      <th>2</th>\n",
       "      <td>2807</td>\n",
       "      <td>21</td>\n",
       "      <td>0.007481</td>\n",
       "      <td>-0.190476</td>\n",
       "    </tr>\n",
       "    <tr>\n",
       "      <th>3</th>\n",
       "      <td>1922888</td>\n",
       "      <td>17</td>\n",
       "      <td>0.000009</td>\n",
       "      <td>0.117647</td>\n",
       "    </tr>\n",
       "    <tr>\n",
       "      <th>4</th>\n",
       "      <td>1</td>\n",
       "      <td>1</td>\n",
       "      <td>1.000000</td>\n",
       "      <td>-1.000000</td>\n",
       "    </tr>\n",
       "  </tbody>\n",
       "</table>\n",
       "</div>"
      ],
      "text/plain": [
       "   timelength  threadlength  post_per_sec  thread_sent\n",
       "0       95221            63      0.000662    -0.563492\n",
       "1        2878             3      0.001042     0.333333\n",
       "2        2807            21      0.007481    -0.190476\n",
       "3     1922888            17      0.000009     0.117647\n",
       "4           1             1      1.000000    -1.000000"
      ]
     },
     "execution_count": 72,
     "metadata": {},
     "output_type": "execute_result"
    }
   ],
   "source": [
    "# Cleaning up X\n",
    "\n",
    "X = X.drop('index', axis = 1)\n",
    "X.head()"
   ]
  },
  {
   "cell_type": "code",
   "execution_count": 73,
   "metadata": {
    "collapsed": false
   },
   "outputs": [
    {
     "data": {
      "text/html": [
       "<div>\n",
       "<table border=\"1\" class=\"dataframe\">\n",
       "  <thead>\n",
       "    <tr style=\"text-align: right;\">\n",
       "      <th></th>\n",
       "      <th>closed</th>\n",
       "    </tr>\n",
       "  </thead>\n",
       "  <tbody>\n",
       "    <tr>\n",
       "      <th>0</th>\n",
       "      <td>1</td>\n",
       "    </tr>\n",
       "    <tr>\n",
       "      <th>1</th>\n",
       "      <td>1</td>\n",
       "    </tr>\n",
       "    <tr>\n",
       "      <th>2</th>\n",
       "      <td>1</td>\n",
       "    </tr>\n",
       "    <tr>\n",
       "      <th>3</th>\n",
       "      <td>1</td>\n",
       "    </tr>\n",
       "    <tr>\n",
       "      <th>4</th>\n",
       "      <td>1</td>\n",
       "    </tr>\n",
       "  </tbody>\n",
       "</table>\n",
       "</div>"
      ],
      "text/plain": [
       "   closed\n",
       "0       1\n",
       "1       1\n",
       "2       1\n",
       "3       1\n",
       "4       1"
      ]
     },
     "execution_count": 73,
     "metadata": {},
     "output_type": "execute_result"
    }
   ],
   "source": [
    "# Cleaning up y\n",
    "\n",
    "y = y.drop('index', axis = 1)\n",
    "y.head()"
   ]
  },
  {
   "cell_type": "code",
   "execution_count": 74,
   "metadata": {
    "collapsed": true
   },
   "outputs": [],
   "source": [
    "# Train-test splits\n",
    "\n",
    "X_train, X_test, y_train, y_test = train_test_split(X, y, random_state = 9)"
   ]
  },
  {
   "cell_type": "code",
   "execution_count": 75,
   "metadata": {
    "collapsed": false
   },
   "outputs": [
    {
     "data": {
      "text/html": [
       "<div>\n",
       "<table border=\"1\" class=\"dataframe\">\n",
       "  <thead>\n",
       "    <tr style=\"text-align: right;\">\n",
       "      <th></th>\n",
       "      <th>subject</th>\n",
       "      <th>forum_id</th>\n",
       "      <th>timelength</th>\n",
       "      <th>threadlength</th>\n",
       "      <th>post_per_sec</th>\n",
       "      <th>most_common_user</th>\n",
       "      <th>closed</th>\n",
       "      <th>thread_sent</th>\n",
       "    </tr>\n",
       "  </thead>\n",
       "  <tbody>\n",
       "    <tr>\n",
       "      <th>307</th>\n",
       "      <td>ATTENTION: ‘Give’ (Nick) assaulted his ex-gir...</td>\n",
       "      <td>1</td>\n",
       "      <td>95221</td>\n",
       "      <td>63</td>\n",
       "      <td>0.000662</td>\n",
       "      <td>4_.phrantek._4</td>\n",
       "      <td>1</td>\n",
       "      <td>-0.563492</td>\n",
       "    </tr>\n",
       "    <tr>\n",
       "      <th>308</th>\n",
       "      <td>ATTENTION: ‘Give’ (Nick) assaulted his ex-gir...</td>\n",
       "      <td>1</td>\n",
       "      <td>2878</td>\n",
       "      <td>3</td>\n",
       "      <td>0.001042</td>\n",
       "      <td>jos</td>\n",
       "      <td>1</td>\n",
       "      <td>0.333333</td>\n",
       "    </tr>\n",
       "    <tr>\n",
       "      <th>410</th>\n",
       "      <td>DJ/ MC battle  who wants to see one?</td>\n",
       "      <td>2</td>\n",
       "      <td>2807</td>\n",
       "      <td>21</td>\n",
       "      <td>0.007481</td>\n",
       "      <td>phish78</td>\n",
       "      <td>1</td>\n",
       "      <td>-0.190476</td>\n",
       "    </tr>\n",
       "    <tr>\n",
       "      <th>450</th>\n",
       "      <td>FAKE ASS WEB DESIGNER's FINAL PLEA www.digita...</td>\n",
       "      <td>1</td>\n",
       "      <td>1922888</td>\n",
       "      <td>17</td>\n",
       "      <td>0.000009</td>\n",
       "      <td>ghetto_dave</td>\n",
       "      <td>1</td>\n",
       "      <td>0.117647</td>\n",
       "    </tr>\n",
       "    <tr>\n",
       "      <th>451</th>\n",
       "      <td>FAKE ASS WEB DESIGNER's FINAL PLEA www.digita...</td>\n",
       "      <td>1</td>\n",
       "      <td>1</td>\n",
       "      <td>1</td>\n",
       "      <td>1.000000</td>\n",
       "      <td>outsource</td>\n",
       "      <td>1</td>\n",
       "      <td>-1.000000</td>\n",
       "    </tr>\n",
       "  </tbody>\n",
       "</table>\n",
       "</div>"
      ],
      "text/plain": [
       "                                               subject  forum_id  timelength  \\\n",
       "307   ATTENTION: ‘Give’ (Nick) assaulted his ex-gir...         1       95221   \n",
       "308   ATTENTION: ‘Give’ (Nick) assaulted his ex-gir...         1        2878   \n",
       "410               DJ/ MC battle  who wants to see one?         2        2807   \n",
       "450   FAKE ASS WEB DESIGNER's FINAL PLEA www.digita...         1     1922888   \n",
       "451   FAKE ASS WEB DESIGNER's FINAL PLEA www.digita...         1           1   \n",
       "\n",
       "     threadlength  post_per_sec most_common_user  closed  thread_sent  \n",
       "307            63      0.000662   4_.phrantek._4       1    -0.563492  \n",
       "308             3      0.001042              jos       1     0.333333  \n",
       "410            21      0.007481          phish78       1    -0.190476  \n",
       "450            17      0.000009      ghetto_dave       1     0.117647  \n",
       "451             1      1.000000        outsource       1    -1.000000  "
      ]
     },
     "execution_count": 75,
     "metadata": {},
     "output_type": "execute_result"
    }
   ],
   "source": [
    "# Some features have large ranges, so we create another train-test split, but with a log() function applied to them.\n",
    "# This may help our modeling down the road.\n",
    "\n",
    "threaddf_sample2 = threaddf_sample\n",
    "threaddf_sample2.head()"
   ]
  },
  {
   "cell_type": "code",
   "execution_count": 76,
   "metadata": {
    "collapsed": false
   },
   "outputs": [
    {
     "data": {
      "text/html": [
       "<div>\n",
       "<table border=\"1\" class=\"dataframe\">\n",
       "  <thead>\n",
       "    <tr style=\"text-align: right;\">\n",
       "      <th></th>\n",
       "      <th>timelength</th>\n",
       "      <th>threadlength</th>\n",
       "      <th>post_per_sec</th>\n",
       "      <th>thread_sent</th>\n",
       "    </tr>\n",
       "  </thead>\n",
       "  <tbody>\n",
       "    <tr>\n",
       "      <th>294</th>\n",
       "      <td>4669827</td>\n",
       "      <td>5</td>\n",
       "      <td>1.070703e-06</td>\n",
       "      <td>0.200000</td>\n",
       "    </tr>\n",
       "    <tr>\n",
       "      <th>9</th>\n",
       "      <td>59868463</td>\n",
       "      <td>35</td>\n",
       "      <td>5.846150e-07</td>\n",
       "      <td>0.114286</td>\n",
       "    </tr>\n",
       "    <tr>\n",
       "      <th>352</th>\n",
       "      <td>1</td>\n",
       "      <td>1</td>\n",
       "      <td>1.000000e+00</td>\n",
       "      <td>0.000000</td>\n",
       "    </tr>\n",
       "    <tr>\n",
       "      <th>54</th>\n",
       "      <td>10006</td>\n",
       "      <td>11</td>\n",
       "      <td>1.099340e-03</td>\n",
       "      <td>0.045455</td>\n",
       "    </tr>\n",
       "    <tr>\n",
       "      <th>179</th>\n",
       "      <td>117973</td>\n",
       "      <td>12</td>\n",
       "      <td>1.017182e-04</td>\n",
       "      <td>-1.666667</td>\n",
       "    </tr>\n",
       "  </tbody>\n",
       "</table>\n",
       "</div>"
      ],
      "text/plain": [
       "     timelength  threadlength  post_per_sec  thread_sent\n",
       "294     4669827             5  1.070703e-06     0.200000\n",
       "9      59868463            35  5.846150e-07     0.114286\n",
       "352           1             1  1.000000e+00     0.000000\n",
       "54        10006            11  1.099340e-03     0.045455\n",
       "179      117973            12  1.017182e-04    -1.666667"
      ]
     },
     "execution_count": 76,
     "metadata": {},
     "output_type": "execute_result"
    }
   ],
   "source": [
    "X_train.head()"
   ]
  },
  {
   "cell_type": "code",
   "execution_count": 77,
   "metadata": {
    "collapsed": false
   },
   "outputs": [],
   "source": [
    "threaddf_sample2['timelength'] = np.log(threaddf_sample['timelength'])\n",
    "threaddf_sample2['post_per_sec'] = np.log(threaddf_sample['post_per_sec'])"
   ]
  },
  {
   "cell_type": "code",
   "execution_count": 78,
   "metadata": {
    "collapsed": true
   },
   "outputs": [],
   "source": [
    "# Second log() set of data\n",
    "\n",
    "X2 = threaddf_sample2.drop(['closed', 'most_common_user', 'subject'], axis = 1).reset_index()\n",
    "X2 = X2.drop('index', axis = 1)\n",
    "y2 = threaddf_sample2.closed.reset_index()\n",
    "y2 = y2.drop('index', axis = 1)"
   ]
  },
  {
   "cell_type": "code",
   "execution_count": 79,
   "metadata": {
    "collapsed": false
   },
   "outputs": [
    {
     "data": {
      "text/html": [
       "<div>\n",
       "<table border=\"1\" class=\"dataframe\">\n",
       "  <thead>\n",
       "    <tr style=\"text-align: right;\">\n",
       "      <th></th>\n",
       "      <th>forum_id</th>\n",
       "      <th>timelength</th>\n",
       "      <th>threadlength</th>\n",
       "      <th>post_per_sec</th>\n",
       "      <th>thread_sent</th>\n",
       "    </tr>\n",
       "  </thead>\n",
       "  <tbody>\n",
       "    <tr>\n",
       "      <th>0</th>\n",
       "      <td>1</td>\n",
       "      <td>11.463956</td>\n",
       "      <td>63</td>\n",
       "      <td>-7.320821</td>\n",
       "      <td>-0.563492</td>\n",
       "    </tr>\n",
       "    <tr>\n",
       "      <th>1</th>\n",
       "      <td>1</td>\n",
       "      <td>7.964851</td>\n",
       "      <td>3</td>\n",
       "      <td>-6.866239</td>\n",
       "      <td>0.333333</td>\n",
       "    </tr>\n",
       "    <tr>\n",
       "      <th>2</th>\n",
       "      <td>2</td>\n",
       "      <td>7.939872</td>\n",
       "      <td>21</td>\n",
       "      <td>-4.895349</td>\n",
       "      <td>-0.190476</td>\n",
       "    </tr>\n",
       "    <tr>\n",
       "      <th>3</th>\n",
       "      <td>1</td>\n",
       "      <td>14.469339</td>\n",
       "      <td>17</td>\n",
       "      <td>-11.636125</td>\n",
       "      <td>0.117647</td>\n",
       "    </tr>\n",
       "    <tr>\n",
       "      <th>4</th>\n",
       "      <td>1</td>\n",
       "      <td>0.000000</td>\n",
       "      <td>1</td>\n",
       "      <td>0.000000</td>\n",
       "      <td>-1.000000</td>\n",
       "    </tr>\n",
       "  </tbody>\n",
       "</table>\n",
       "</div>"
      ],
      "text/plain": [
       "   forum_id  timelength  threadlength  post_per_sec  thread_sent\n",
       "0         1   11.463956            63     -7.320821    -0.563492\n",
       "1         1    7.964851             3     -6.866239     0.333333\n",
       "2         2    7.939872            21     -4.895349    -0.190476\n",
       "3         1   14.469339            17    -11.636125     0.117647\n",
       "4         1    0.000000             1      0.000000    -1.000000"
      ]
     },
     "execution_count": 79,
     "metadata": {},
     "output_type": "execute_result"
    }
   ],
   "source": [
    "X2.head()"
   ]
  },
  {
   "cell_type": "code",
   "execution_count": 80,
   "metadata": {
    "collapsed": true
   },
   "outputs": [],
   "source": [
    "# Logged data train-test split\n",
    "\n",
    "X_train2, X_test2, y_train2, y_test2 = train_test_split(X2, y2, random_state = 9)"
   ]
  },
  {
   "cell_type": "code",
   "execution_count": 81,
   "metadata": {
    "collapsed": false
   },
   "outputs": [
    {
     "data": {
      "text/html": [
       "<div>\n",
       "<table border=\"1\" class=\"dataframe\">\n",
       "  <thead>\n",
       "    <tr style=\"text-align: right;\">\n",
       "      <th></th>\n",
       "      <th>timelength</th>\n",
       "      <th>threadlength</th>\n",
       "      <th>post_per_sec</th>\n",
       "      <th>thread_sent</th>\n",
       "    </tr>\n",
       "  </thead>\n",
       "  <tbody>\n",
       "    <tr>\n",
       "      <th>294</th>\n",
       "      <td>4669827</td>\n",
       "      <td>5</td>\n",
       "      <td>1.070703e-06</td>\n",
       "      <td>0.200000</td>\n",
       "    </tr>\n",
       "    <tr>\n",
       "      <th>9</th>\n",
       "      <td>59868463</td>\n",
       "      <td>35</td>\n",
       "      <td>5.846150e-07</td>\n",
       "      <td>0.114286</td>\n",
       "    </tr>\n",
       "    <tr>\n",
       "      <th>352</th>\n",
       "      <td>1</td>\n",
       "      <td>1</td>\n",
       "      <td>1.000000e+00</td>\n",
       "      <td>0.000000</td>\n",
       "    </tr>\n",
       "    <tr>\n",
       "      <th>54</th>\n",
       "      <td>10006</td>\n",
       "      <td>11</td>\n",
       "      <td>1.099340e-03</td>\n",
       "      <td>0.045455</td>\n",
       "    </tr>\n",
       "    <tr>\n",
       "      <th>179</th>\n",
       "      <td>117973</td>\n",
       "      <td>12</td>\n",
       "      <td>1.017182e-04</td>\n",
       "      <td>-1.666667</td>\n",
       "    </tr>\n",
       "  </tbody>\n",
       "</table>\n",
       "</div>"
      ],
      "text/plain": [
       "     timelength  threadlength  post_per_sec  thread_sent\n",
       "294     4669827             5  1.070703e-06     0.200000\n",
       "9      59868463            35  5.846150e-07     0.114286\n",
       "352           1             1  1.000000e+00     0.000000\n",
       "54        10006            11  1.099340e-03     0.045455\n",
       "179      117973            12  1.017182e-04    -1.666667"
      ]
     },
     "execution_count": 81,
     "metadata": {},
     "output_type": "execute_result"
    }
   ],
   "source": [
    "X_train.head()"
   ]
  },
  {
   "cell_type": "code",
   "execution_count": 82,
   "metadata": {
    "collapsed": false
   },
   "outputs": [
    {
     "data": {
      "text/html": [
       "<div>\n",
       "<table border=\"1\" class=\"dataframe\">\n",
       "  <thead>\n",
       "    <tr style=\"text-align: right;\">\n",
       "      <th></th>\n",
       "      <th>forum_id</th>\n",
       "      <th>timelength</th>\n",
       "      <th>threadlength</th>\n",
       "      <th>post_per_sec</th>\n",
       "      <th>thread_sent</th>\n",
       "    </tr>\n",
       "  </thead>\n",
       "  <tbody>\n",
       "    <tr>\n",
       "      <th>294</th>\n",
       "      <td>2</td>\n",
       "      <td>15.356633</td>\n",
       "      <td>5</td>\n",
       "      <td>-13.747195</td>\n",
       "      <td>0.200000</td>\n",
       "    </tr>\n",
       "    <tr>\n",
       "      <th>9</th>\n",
       "      <td>1</td>\n",
       "      <td>17.907660</td>\n",
       "      <td>35</td>\n",
       "      <td>-14.352312</td>\n",
       "      <td>0.114286</td>\n",
       "    </tr>\n",
       "    <tr>\n",
       "      <th>352</th>\n",
       "      <td>122</td>\n",
       "      <td>0.000000</td>\n",
       "      <td>1</td>\n",
       "      <td>0.000000</td>\n",
       "      <td>0.000000</td>\n",
       "    </tr>\n",
       "    <tr>\n",
       "      <th>54</th>\n",
       "      <td>1</td>\n",
       "      <td>9.210940</td>\n",
       "      <td>11</td>\n",
       "      <td>-6.813045</td>\n",
       "      <td>0.045455</td>\n",
       "    </tr>\n",
       "    <tr>\n",
       "      <th>179</th>\n",
       "      <td>1</td>\n",
       "      <td>11.678211</td>\n",
       "      <td>12</td>\n",
       "      <td>-9.193304</td>\n",
       "      <td>-1.666667</td>\n",
       "    </tr>\n",
       "  </tbody>\n",
       "</table>\n",
       "</div>"
      ],
      "text/plain": [
       "     forum_id  timelength  threadlength  post_per_sec  thread_sent\n",
       "294         2   15.356633             5    -13.747195     0.200000\n",
       "9           1   17.907660            35    -14.352312     0.114286\n",
       "352       122    0.000000             1      0.000000     0.000000\n",
       "54          1    9.210940            11     -6.813045     0.045455\n",
       "179         1   11.678211            12     -9.193304    -1.666667"
      ]
     },
     "execution_count": 82,
     "metadata": {},
     "output_type": "execute_result"
    }
   ],
   "source": [
    "X_train2.head()"
   ]
  },
  {
   "cell_type": "code",
   "execution_count": 83,
   "metadata": {
    "collapsed": false
   },
   "outputs": [
    {
     "data": {
      "text/html": [
       "<div>\n",
       "<table border=\"1\" class=\"dataframe\">\n",
       "  <thead>\n",
       "    <tr style=\"text-align: right;\">\n",
       "      <th></th>\n",
       "      <th>timelength</th>\n",
       "      <th>threadlength</th>\n",
       "      <th>post_per_sec</th>\n",
       "      <th>thread_sent</th>\n",
       "    </tr>\n",
       "  </thead>\n",
       "  <tbody>\n",
       "    <tr>\n",
       "      <th>308</th>\n",
       "      <td>111305472</td>\n",
       "      <td>35</td>\n",
       "      <td>3.144499e-07</td>\n",
       "      <td>0.471429</td>\n",
       "    </tr>\n",
       "    <tr>\n",
       "      <th>57</th>\n",
       "      <td>1</td>\n",
       "      <td>1</td>\n",
       "      <td>1.000000e+00</td>\n",
       "      <td>-0.500000</td>\n",
       "    </tr>\n",
       "    <tr>\n",
       "      <th>109</th>\n",
       "      <td>19059</td>\n",
       "      <td>7</td>\n",
       "      <td>3.672805e-04</td>\n",
       "      <td>-0.071429</td>\n",
       "    </tr>\n",
       "    <tr>\n",
       "      <th>2</th>\n",
       "      <td>2807</td>\n",
       "      <td>21</td>\n",
       "      <td>7.481297e-03</td>\n",
       "      <td>-0.190476</td>\n",
       "    </tr>\n",
       "    <tr>\n",
       "      <th>97</th>\n",
       "      <td>1</td>\n",
       "      <td>1</td>\n",
       "      <td>1.000000e+00</td>\n",
       "      <td>0.500000</td>\n",
       "    </tr>\n",
       "  </tbody>\n",
       "</table>\n",
       "</div>"
      ],
      "text/plain": [
       "     timelength  threadlength  post_per_sec  thread_sent\n",
       "308   111305472            35  3.144499e-07     0.471429\n",
       "57            1             1  1.000000e+00    -0.500000\n",
       "109       19059             7  3.672805e-04    -0.071429\n",
       "2          2807            21  7.481297e-03    -0.190476\n",
       "97            1             1  1.000000e+00     0.500000"
      ]
     },
     "execution_count": 83,
     "metadata": {},
     "output_type": "execute_result"
    }
   ],
   "source": [
    "X_test.head()"
   ]
  },
  {
   "cell_type": "code",
   "execution_count": 84,
   "metadata": {
    "collapsed": false
   },
   "outputs": [
    {
     "data": {
      "text/html": [
       "<div>\n",
       "<table border=\"1\" class=\"dataframe\">\n",
       "  <thead>\n",
       "    <tr style=\"text-align: right;\">\n",
       "      <th></th>\n",
       "      <th>forum_id</th>\n",
       "      <th>timelength</th>\n",
       "      <th>threadlength</th>\n",
       "      <th>post_per_sec</th>\n",
       "      <th>thread_sent</th>\n",
       "    </tr>\n",
       "  </thead>\n",
       "  <tbody>\n",
       "    <tr>\n",
       "      <th>308</th>\n",
       "      <td>2</td>\n",
       "      <td>18.527789</td>\n",
       "      <td>35</td>\n",
       "      <td>-14.972441</td>\n",
       "      <td>0.471429</td>\n",
       "    </tr>\n",
       "    <tr>\n",
       "      <th>57</th>\n",
       "      <td>1</td>\n",
       "      <td>0.000000</td>\n",
       "      <td>1</td>\n",
       "      <td>0.000000</td>\n",
       "      <td>-0.500000</td>\n",
       "    </tr>\n",
       "    <tr>\n",
       "      <th>109</th>\n",
       "      <td>1</td>\n",
       "      <td>9.855295</td>\n",
       "      <td>7</td>\n",
       "      <td>-7.909385</td>\n",
       "      <td>-0.071429</td>\n",
       "    </tr>\n",
       "    <tr>\n",
       "      <th>2</th>\n",
       "      <td>2</td>\n",
       "      <td>7.939872</td>\n",
       "      <td>21</td>\n",
       "      <td>-4.895349</td>\n",
       "      <td>-0.190476</td>\n",
       "    </tr>\n",
       "    <tr>\n",
       "      <th>97</th>\n",
       "      <td>1</td>\n",
       "      <td>0.000000</td>\n",
       "      <td>1</td>\n",
       "      <td>0.000000</td>\n",
       "      <td>0.500000</td>\n",
       "    </tr>\n",
       "  </tbody>\n",
       "</table>\n",
       "</div>"
      ],
      "text/plain": [
       "     forum_id  timelength  threadlength  post_per_sec  thread_sent\n",
       "308         2   18.527789            35    -14.972441     0.471429\n",
       "57          1    0.000000             1      0.000000    -0.500000\n",
       "109         1    9.855295             7     -7.909385    -0.071429\n",
       "2           2    7.939872            21     -4.895349    -0.190476\n",
       "97          1    0.000000             1      0.000000     0.500000"
      ]
     },
     "execution_count": 84,
     "metadata": {},
     "output_type": "execute_result"
    }
   ],
   "source": [
    "X_test2.head()"
   ]
  },
  {
   "cell_type": "code",
   "execution_count": 85,
   "metadata": {
    "collapsed": false
   },
   "outputs": [
    {
     "data": {
      "text/html": [
       "<div>\n",
       "<table border=\"1\" class=\"dataframe\">\n",
       "  <thead>\n",
       "    <tr style=\"text-align: right;\">\n",
       "      <th></th>\n",
       "      <th>closed</th>\n",
       "    </tr>\n",
       "  </thead>\n",
       "  <tbody>\n",
       "    <tr>\n",
       "      <th>294</th>\n",
       "      <td>0</td>\n",
       "    </tr>\n",
       "    <tr>\n",
       "      <th>9</th>\n",
       "      <td>1</td>\n",
       "    </tr>\n",
       "    <tr>\n",
       "      <th>352</th>\n",
       "      <td>0</td>\n",
       "    </tr>\n",
       "    <tr>\n",
       "      <th>54</th>\n",
       "      <td>1</td>\n",
       "    </tr>\n",
       "    <tr>\n",
       "      <th>179</th>\n",
       "      <td>1</td>\n",
       "    </tr>\n",
       "  </tbody>\n",
       "</table>\n",
       "</div>"
      ],
      "text/plain": [
       "     closed\n",
       "294       0\n",
       "9         1\n",
       "352       0\n",
       "54        1\n",
       "179       1"
      ]
     },
     "execution_count": 85,
     "metadata": {},
     "output_type": "execute_result"
    }
   ],
   "source": [
    "y_train.head()"
   ]
  },
  {
   "cell_type": "code",
   "execution_count": 86,
   "metadata": {
    "collapsed": false
   },
   "outputs": [
    {
     "data": {
      "text/html": [
       "<div>\n",
       "<table border=\"1\" class=\"dataframe\">\n",
       "  <thead>\n",
       "    <tr style=\"text-align: right;\">\n",
       "      <th></th>\n",
       "      <th>closed</th>\n",
       "    </tr>\n",
       "  </thead>\n",
       "  <tbody>\n",
       "    <tr>\n",
       "      <th>294</th>\n",
       "      <td>0</td>\n",
       "    </tr>\n",
       "    <tr>\n",
       "      <th>9</th>\n",
       "      <td>1</td>\n",
       "    </tr>\n",
       "    <tr>\n",
       "      <th>352</th>\n",
       "      <td>0</td>\n",
       "    </tr>\n",
       "    <tr>\n",
       "      <th>54</th>\n",
       "      <td>1</td>\n",
       "    </tr>\n",
       "    <tr>\n",
       "      <th>179</th>\n",
       "      <td>1</td>\n",
       "    </tr>\n",
       "  </tbody>\n",
       "</table>\n",
       "</div>"
      ],
      "text/plain": [
       "     closed\n",
       "294       0\n",
       "9         1\n",
       "352       0\n",
       "54        1\n",
       "179       1"
      ]
     },
     "execution_count": 86,
     "metadata": {},
     "output_type": "execute_result"
    }
   ],
   "source": [
    "y_train2.head()"
   ]
  },
  {
   "cell_type": "markdown",
   "metadata": {},
   "source": [
    "## Naive Bayes (GaussianNB)"
   ]
  },
  {
   "cell_type": "code",
   "execution_count": 87,
   "metadata": {
    "collapsed": false
   },
   "outputs": [
    {
     "name": "stdout",
     "output_type": "stream",
     "text": [
      "0.464646464646\n"
     ]
    },
    {
     "name": "stderr",
     "output_type": "stream",
     "text": [
      "/Users/Devoe/anaconda2/lib/python2.7/site-packages/sklearn/utils/validation.py:515: DataConversionWarning: A column-vector y was passed when a 1d array was expected. Please change the shape of y to (n_samples, ), for example using ravel().\n",
      "  y = column_or_1d(y, warn=True)\n"
     ]
    }
   ],
   "source": [
    "# testing accuracy of Gaussian Naive Bayes on first test set\n",
    "\n",
    "gnb = GaussianNB()\n",
    "gnb.fit(X_train, y_train)\n",
    "y_pred_class = gnb.predict(X_test)\n",
    "print metrics.accuracy_score(y_test, y_pred_class)"
   ]
  },
  {
   "cell_type": "code",
   "execution_count": 88,
   "metadata": {
    "collapsed": false
   },
   "outputs": [
    {
     "name": "stdout",
     "output_type": "stream",
     "text": [
      "[[46  3]\n",
      " [50  0]]\n"
     ]
    }
   ],
   "source": [
    "# Confusion Matrix\n",
    "\n",
    "print metrics.confusion_matrix(y_test, y_pred_class)"
   ]
  },
  {
   "cell_type": "code",
   "execution_count": 89,
   "metadata": {
    "collapsed": false
   },
   "outputs": [
    {
     "name": "stdout",
     "output_type": "stream",
     "text": [
      "0.469387755102\n"
     ]
    }
   ],
   "source": [
    "# Accuracy\n",
    "\n",
    "print metrics.roc_auc_score(y_test, y_pred_class)"
   ]
  },
  {
   "cell_type": "code",
   "execution_count": 90,
   "metadata": {
    "collapsed": false
   },
   "outputs": [
    {
     "name": "stdout",
     "output_type": "stream",
     "text": [
      "0.545454545455\n"
     ]
    },
    {
     "name": "stderr",
     "output_type": "stream",
     "text": [
      "/Users/Devoe/anaconda2/lib/python2.7/site-packages/sklearn/utils/validation.py:515: DataConversionWarning: A column-vector y was passed when a 1d array was expected. Please change the shape of y to (n_samples, ), for example using ravel().\n",
      "  y = column_or_1d(y, warn=True)\n"
     ]
    }
   ],
   "source": [
    "# testing accuracy of Gaussian Naive Bayes on logged dataset\n",
    "\n",
    "gnb2 = GaussianNB()\n",
    "gnb2.fit(X_train2, y_train2)\n",
    "y_pred_class2 = gnb2.predict(X_test2)\n",
    "print metrics.accuracy_score(y_test2, y_pred_class2)"
   ]
  },
  {
   "cell_type": "code",
   "execution_count": 91,
   "metadata": {
    "collapsed": false
   },
   "outputs": [
    {
     "name": "stdout",
     "output_type": "stream",
     "text": [
      "[[42  7]\n",
      " [38 12]]\n"
     ]
    }
   ],
   "source": [
    "# Confusion Matrix\n",
    "\n",
    "print metrics.confusion_matrix(y_test2, y_pred_class2)"
   ]
  },
  {
   "cell_type": "code",
   "execution_count": 92,
   "metadata": {
    "collapsed": false
   },
   "outputs": [
    {
     "name": "stdout",
     "output_type": "stream",
     "text": [
      "0.548571428571\n"
     ]
    }
   ],
   "source": [
    "# Accuracy\n",
    "\n",
    "print metrics.roc_auc_score(y_test2, y_pred_class2)"
   ]
  },
  {
   "cell_type": "markdown",
   "metadata": {},
   "source": [
    "## Logistic Regression Model"
   ]
  },
  {
   "cell_type": "code",
   "execution_count": 93,
   "metadata": {
    "collapsed": false
   },
   "outputs": [
    {
     "name": "stdout",
     "output_type": "stream",
     "text": [
      "Best Params:  {'C': 10000000000}\n",
      "Best estimator:  LogisticRegression(C=10000000000, class_weight=None, dual=False,\n",
      "          fit_intercept=True, intercept_scaling=1, max_iter=100,\n",
      "          multi_class='ovr', n_jobs=1, penalty='l2', random_state=None,\n",
      "          solver='liblinear', tol=0.0001, verbose=0, warm_start=False)\n",
      "Best Roc_Auc Score:  0.449058000597\n"
     ]
    }
   ],
   "source": [
    "# Logistic Regression Model\n",
    "\n",
    "lrm = LogisticRegression()\n",
    "\n",
    "lrm_cv = GridSearchCV(estimator=lrm, param_grid={'C': [10**-i for i in range(-10, 10)]}, scoring = 'roc_auc', cv = 5)\n",
    "\n",
    "lrm_cv.fit(X_train.values, y_train['closed'].values)\n",
    "\n",
    "print \"Best Params: \",lrm_cv.best_params_\n",
    "\n",
    "print \"Best estimator: \",lrm_cv.best_estimator_\n",
    "\n",
    "print \"Best Roc_Auc Score: \",lrm_cv.best_score_\n"
   ]
  },
  {
   "cell_type": "markdown",
   "metadata": {},
   "source": [
    "## Support Vector Machines w/ GridSearchCV"
   ]
  },
  {
   "cell_type": "code",
   "execution_count": 95,
   "metadata": {
    "collapsed": false
   },
   "outputs": [
    {
     "name": "stdout",
     "output_type": "stream",
     "text": [
      " Best Params: "
     ]
    },
    {
     "ename": "AttributeError",
     "evalue": "'SVC' object has no attribute 'best_params_'",
     "output_type": "error",
     "traceback": [
      "\u001b[0;31m---------------------------------------------------------------------------\u001b[0m",
      "\u001b[0;31mAttributeError\u001b[0m                            Traceback (most recent call last)",
      "\u001b[0;32m<ipython-input-95-bf61af3835b3>\u001b[0m in \u001b[0;36m<module>\u001b[0;34m()\u001b[0m\n\u001b[1;32m     13\u001b[0m \u001b[0msvc\u001b[0m\u001b[0;34m.\u001b[0m\u001b[0mfit\u001b[0m\u001b[0;34m(\u001b[0m\u001b[0mX_train\u001b[0m\u001b[0;34m.\u001b[0m\u001b[0mvalues\u001b[0m\u001b[0;34m,\u001b[0m \u001b[0my_train\u001b[0m\u001b[0;34m[\u001b[0m\u001b[0;34m'closed'\u001b[0m\u001b[0;34m]\u001b[0m\u001b[0;34m.\u001b[0m\u001b[0mvalues\u001b[0m\u001b[0;34m)\u001b[0m\u001b[0;34m\u001b[0m\u001b[0m\n\u001b[1;32m     14\u001b[0m \u001b[0;34m\u001b[0m\u001b[0m\n\u001b[0;32m---> 15\u001b[0;31m \u001b[0;32mprint\u001b[0m \u001b[0;34m\"Best Params: \"\u001b[0m\u001b[0;34m,\u001b[0m\u001b[0msvc\u001b[0m\u001b[0;34m.\u001b[0m\u001b[0mbest_params_\u001b[0m\u001b[0;34m\u001b[0m\u001b[0m\n\u001b[0m\u001b[1;32m     16\u001b[0m \u001b[0;34m\u001b[0m\u001b[0m\n\u001b[1;32m     17\u001b[0m \u001b[0;32mprint\u001b[0m \u001b[0;34m\"Best estimator: \"\u001b[0m\u001b[0;34m,\u001b[0m\u001b[0msvc\u001b[0m\u001b[0;34m.\u001b[0m\u001b[0mbest_estimator_\u001b[0m\u001b[0;34m\u001b[0m\u001b[0m\n",
      "\u001b[0;31mAttributeError\u001b[0m: 'SVC' object has no attribute 'best_params_'"
     ]
    }
   ],
   "source": [
    "# Support Vector Machines Model\n",
    "\n",
    "from sklearn import preprocessing\n",
    "\n",
    "svc = SVC()\n",
    "\n",
    "#param_grid = [\n",
    "# {'C': [1, 10, 100], 'kernel': ['linear']},\n",
    "# {'C': [1, 10, 100], 'gamma': [0.001, 0.0001], 'kernel': ['rbf']}]\n",
    "\n",
    "svc_cv = GridSearchCV(estimator = svc, param_grid = {'C':10, 'Kernel':'linear'}, scoring = 'roc_auc', cv = 5)\n",
    "\n",
    "svc_cv.fit(X_train.values, y_train['closed'].values)\n",
    "\n",
    "print \"Best Params: \",svc.best_params_ \n",
    "\n",
    "print \"Best estimator: \",svc.best_estimator_\n",
    "\n",
    "print \"Best Roc_Auc Score: \",svc.best_score_\n"
   ]
  },
  {
   "cell_type": "markdown",
   "metadata": {},
   "source": [
    "## Random Forest w/ GridSearchCV"
   ]
  },
  {
   "cell_type": "code",
   "execution_count": 101,
   "metadata": {
    "collapsed": false
   },
   "outputs": [
    {
     "name": "stdout",
     "output_type": "stream",
     "text": [
      "Best Params:  {'max_features': 'auto', 'n_estimators': 20}\n",
      "Best estimator:  RandomForestClassifier(bootstrap=True, class_weight=None, criterion='gini',\n",
      "            max_depth=None, max_features='auto', max_leaf_nodes=None,\n",
      "            min_samples_leaf=1, min_samples_split=2,\n",
      "            min_weight_fraction_leaf=0.0, n_estimators=20, n_jobs=1,\n",
      "            oob_score=False, random_state=None, verbose=0,\n",
      "            warm_start=False)\n",
      "Best Roc_Auc Score:  0.725485625486\n"
     ]
    }
   ],
   "source": [
    "# Random Forest with GridSearchCV\n",
    "\n",
    "rfm = RandomForestClassifier()\n",
    "\n",
    "param_grid = {'n_estimators':[20,200], 'max_features':['auto', 'sqrt','log2']}\n",
    "\n",
    "cv_rfm = GridSearchCV(estimator = rfm, param_grid = param_grid, cv = 6, scoring = 'roc_auc')\n",
    "cv_rfm.fit(X_train.values, y_train['closed'].values)\n",
    "\n",
    "print \"Best Params: \",cv_rfm.best_params_\n",
    "\n",
    "print \"Best estimator: \",cv_rfm.best_estimator_\n",
    "\n",
    "print \"Best Roc_Auc Score: \",cv_rfm.best_score_\n",
    "\n",
    "\n"
   ]
  },
  {
   "cell_type": "code",
   "execution_count": 102,
   "metadata": {
    "collapsed": false
   },
   "outputs": [],
   "source": [
    "# Best estimator\n",
    "\n",
    "best_rfm = cv_rfm.best_estimator_"
   ]
  },
  {
   "cell_type": "code",
   "execution_count": 103,
   "metadata": {
    "collapsed": false
   },
   "outputs": [
    {
     "data": {
      "text/html": [
       "<div>\n",
       "<table border=\"1\" class=\"dataframe\">\n",
       "  <thead>\n",
       "    <tr style=\"text-align: right;\">\n",
       "      <th></th>\n",
       "      <th>Features</th>\n",
       "      <th>Importance</th>\n",
       "    </tr>\n",
       "  </thead>\n",
       "  <tbody>\n",
       "    <tr>\n",
       "      <th>0</th>\n",
       "      <td>timelength</td>\n",
       "      <td>0.205862</td>\n",
       "    </tr>\n",
       "    <tr>\n",
       "      <th>1</th>\n",
       "      <td>threadlength</td>\n",
       "      <td>0.204113</td>\n",
       "    </tr>\n",
       "    <tr>\n",
       "      <th>2</th>\n",
       "      <td>post_per_sec</td>\n",
       "      <td>0.266409</td>\n",
       "    </tr>\n",
       "    <tr>\n",
       "      <th>3</th>\n",
       "      <td>thread_sent</td>\n",
       "      <td>0.323616</td>\n",
       "    </tr>\n",
       "  </tbody>\n",
       "</table>\n",
       "</div>"
      ],
      "text/plain": [
       "       Features  Importance\n",
       "0    timelength    0.205862\n",
       "1  threadlength    0.204113\n",
       "2  post_per_sec    0.266409\n",
       "3   thread_sent    0.323616"
      ]
     },
     "execution_count": 103,
     "metadata": {},
     "output_type": "execute_result"
    }
   ],
   "source": [
    "# Feature Importances\n",
    "\n",
    "feature_importances = best_rfm.feature_importances_\n",
    "feature_names = X_train.columns.values\n",
    "feature_imp_df = pd.DataFrame({'Features':feature_names, 'Importance':feature_importances})\n",
    "feature_imp_df"
   ]
  },
  {
   "cell_type": "code",
   "execution_count": 104,
   "metadata": {
    "collapsed": true
   },
   "outputs": [],
   "source": [
    "# Create prediction values for Random Forest \n",
    "\n",
    "rfm_predict = best_rfm.predict(X_test)"
   ]
  },
  {
   "cell_type": "code",
   "execution_count": 105,
   "metadata": {
    "collapsed": false
   },
   "outputs": [
    {
     "data": {
      "text/plain": [
       "0.68686868686868685"
      ]
     },
     "execution_count": 105,
     "metadata": {},
     "output_type": "execute_result"
    }
   ],
   "source": [
    "# Calculate Random Forest model accuracy\n",
    "\n",
    "rfm_accuracy = metrics.accuracy_score(y_test, rfm_predict)\n",
    "rfm_accuracy"
   ]
  },
  {
   "cell_type": "code",
   "execution_count": 106,
   "metadata": {
    "collapsed": false
   },
   "outputs": [
    {
     "data": {
      "text/plain": [
       "<matplotlib.text.Text at 0x144c68310>"
      ]
     },
     "execution_count": 106,
     "metadata": {},
     "output_type": "execute_result"
    },
    {
     "data": {
      "image/png": "[encoded data removed]",
      "text/plain": [
       "<matplotlib.figure.Figure at 0x1277bd110>"
      ]
     },
     "metadata": {},
     "output_type": "display_data"
    }
   ],
   "source": [
    "# ROC Curve for Random Forest Model\n",
    "\n",
    "rfm_probas = best_rfm.predict_proba(X_test)\n",
    "plt.plot(roc_curve(y_test, rfm_probas[:,1])[0], roc_curve(y_test, rfm_probas[:,1])[1])\n",
    "plt.xlabel('False Positve Rate')\n",
    "plt.ylabel('True Positive Rate')\n",
    "plt.title('ROC Curve: GridSearchCV Random Forest Model')"
   ]
  },
  {
   "cell_type": "code",
   "execution_count": 107,
   "metadata": {
    "collapsed": false
   },
   "outputs": [
    {
     "data": {
      "text/plain": [
       "'             precision    recall  f1-score   support\\n\\n          0       0.66      0.76      0.70        49\\n          1       0.72      0.62      0.67        50\\n\\navg / total       0.69      0.69      0.69        99\\n'"
      ]
     },
     "execution_count": 107,
     "metadata": {},
     "output_type": "execute_result"
    }
   ],
   "source": [
    "# Classification Report for Random Forest model\n",
    "\n",
    "classification_report(y_test, rfm_predict)"
   ]
  },
  {
   "cell_type": "code",
   "execution_count": 133,
   "metadata": {
    "collapsed": false
   },
   "outputs": [
    {
     "name": "stdout",
     "output_type": "stream",
     "text": [
      "Best Params:  {'max_features': 'log2', 'n_estimators': 200}\n",
      "Best estimator:  RandomForestClassifier(bootstrap=True, class_weight=None, criterion='gini',\n",
      "            max_depth=None, max_features='log2', max_leaf_nodes=None,\n",
      "            min_samples_leaf=1, min_samples_split=2,\n",
      "            min_weight_fraction_leaf=0.0, n_estimators=200, n_jobs=1,\n",
      "            oob_score=False, random_state=None, verbose=0,\n",
      "            warm_start=False)\n",
      "Best Roc_Auc Score:  0.786007726841\n"
     ]
    }
   ],
   "source": [
    "# Can we beat the Random Forest with the logged data?\n",
    "\n",
    "rfm2 = RandomForestClassifier()\n",
    "\n",
    "param_grid2 = {'n_estimators':[20,200], 'max_features':['auto', 'sqrt','log2']}\n",
    "\n",
    "cv_rfm2 = GridSearchCV(estimator = rfm2, param_grid = param_grid2, cv = 6, scoring = 'roc_auc')\n",
    "cv_rfm2.fit(X_train2.values, y_train2['closed'].values)\n",
    "\n",
    "print \"Best Params: \",cv_rfm2.best_params_\n",
    "\n",
    "print \"Best estimator: \",cv_rfm2.best_estimator_\n",
    "\n",
    "print \"Best Roc_Auc Score: \",cv_rfm2.best_score_"
   ]
  },
  {
   "cell_type": "markdown",
   "metadata": {},
   "source": [
    "### Random Forest model fit to the logged data has about the same performance"
   ]
  },
  {
   "cell_type": "code",
   "execution_count": 134,
   "metadata": {
    "collapsed": true
   },
   "outputs": [],
   "source": [
    "# Best estimator\n",
    "\n",
    "best_rfm2 = cv_rfm2.best_estimator_"
   ]
  },
  {
   "cell_type": "code",
   "execution_count": 135,
   "metadata": {
    "collapsed": false
   },
   "outputs": [
    {
     "data": {
      "text/html": [
       "<div>\n",
       "<table border=\"1\" class=\"dataframe\">\n",
       "  <thead>\n",
       "    <tr style=\"text-align: right;\">\n",
       "      <th></th>\n",
       "      <th>Features</th>\n",
       "      <th>Importance</th>\n",
       "    </tr>\n",
       "  </thead>\n",
       "  <tbody>\n",
       "    <tr>\n",
       "      <th>0</th>\n",
       "      <td>forum_id</td>\n",
       "      <td>0.215910</td>\n",
       "    </tr>\n",
       "    <tr>\n",
       "      <th>1</th>\n",
       "      <td>timelength</td>\n",
       "      <td>0.167819</td>\n",
       "    </tr>\n",
       "    <tr>\n",
       "      <th>2</th>\n",
       "      <td>threadlength</td>\n",
       "      <td>0.163827</td>\n",
       "    </tr>\n",
       "    <tr>\n",
       "      <th>3</th>\n",
       "      <td>post_per_sec</td>\n",
       "      <td>0.205185</td>\n",
       "    </tr>\n",
       "    <tr>\n",
       "      <th>4</th>\n",
       "      <td>thread_sent</td>\n",
       "      <td>0.247259</td>\n",
       "    </tr>\n",
       "  </tbody>\n",
       "</table>\n",
       "</div>"
      ],
      "text/plain": [
       "       Features  Importance\n",
       "0      forum_id    0.215910\n",
       "1    timelength    0.167819\n",
       "2  threadlength    0.163827\n",
       "3  post_per_sec    0.205185\n",
       "4   thread_sent    0.247259"
      ]
     },
     "execution_count": 135,
     "metadata": {},
     "output_type": "execute_result"
    }
   ],
   "source": [
    "# Feature Importances\n",
    "\n",
    "feature_importances2 = best_rfm2.feature_importances_\n",
    "feature_names = X_train.columns.values\n",
    "feature_imp_df2 = pd.DataFrame({'Features':feature_names, 'Importance':feature_importances2})\n",
    "feature_imp_df2"
   ]
  },
  {
   "cell_type": "code",
   "execution_count": 136,
   "metadata": {
    "collapsed": true
   },
   "outputs": [],
   "source": [
    "# Create prediction values for Random Forest \n",
    "\n",
    "rfm_predict2 = best_rfm2.predict(X_test2)"
   ]
  },
  {
   "cell_type": "code",
   "execution_count": 137,
   "metadata": {
    "collapsed": false
   },
   "outputs": [
    {
     "data": {
      "text/plain": [
       "0.70707070707070707"
      ]
     },
     "execution_count": 137,
     "metadata": {},
     "output_type": "execute_result"
    }
   ],
   "source": [
    "# Calculate Random Forest model accuracy\n",
    "\n",
    "rfm_accuracy2 = metrics.accuracy_score(y_test2, rfm_predict2)\n",
    "rfm_accuracy2"
   ]
  },
  {
   "cell_type": "code",
   "execution_count": null,
   "metadata": {
    "collapsed": true
   },
   "outputs": [],
   "source": []
  }
 ],
 "metadata": {
  "anaconda-cloud": {},
  "kernelspec": {
   "display_name": "Python [Root]",
   "language": "python",
   "name": "Python [Root]"
  },
  "language_info": {
   "codemirror_mode": {
    "name": "ipython",
    "version": 2
   },
   "file_extension": ".py",
   "mimetype": "text/x-python",
   "name": "python",
   "nbconvert_exporter": "python",
   "pygments_lexer": "ipython2",
   "version": "2.7.12"
  }
 },
 "nbformat": 4,
 "nbformat_minor": 0
}
